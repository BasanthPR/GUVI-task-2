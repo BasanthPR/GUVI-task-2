{
 "cells": [
  {
   "cell_type": "markdown",
   "metadata": {},
   "source": [
    "# Numpy\n",
    "\n"
   ]
  },
  {
   "cell_type": "markdown",
   "metadata": {},
   "source": [
    "#### 1. Import the numpy package under the name `np` (★☆☆) \n",
    "(**hint**: import … as …)"
   ]
  },
  {
   "cell_type": "code",
   "execution_count": 3,
   "metadata": {},
   "outputs": [],
   "source": [
    "import numpy as np"
   ]
  },
  {
   "cell_type": "markdown",
   "metadata": {},
   "source": [
    "#### 2. Print the numpy version and the configuration (★☆☆) \n",
    "(**hint**: np.\\_\\_version\\_\\_, np.show\\_config)"
   ]
  },
  {
   "cell_type": "code",
   "execution_count": 4,
   "metadata": {},
   "outputs": [
    {
     "data": {
      "text/plain": [
       "('1.17.0', <function numpy.__config__.show()>)"
      ]
     },
     "execution_count": 4,
     "metadata": {},
     "output_type": "execute_result"
    }
   ],
   "source": [
    "np.__version__,np.show_config"
   ]
  },
  {
   "cell_type": "markdown",
   "metadata": {},
   "source": [
    "#### 3. Create a null vector of size 10 (★☆☆) \n",
    "(**hint**: np.zeros)"
   ]
  },
  {
   "cell_type": "code",
   "execution_count": 6,
   "metadata": {},
   "outputs": [
    {
     "data": {
      "text/plain": [
       "array([0., 0., 0., 0., 0., 0., 0., 0., 0., 0.])"
      ]
     },
     "execution_count": 6,
     "metadata": {},
     "output_type": "execute_result"
    }
   ],
   "source": [
    "a=np.zeros(10)\n",
    "a"
   ]
  },
  {
   "cell_type": "markdown",
   "metadata": {},
   "source": [
    "#### 4.  How to find the memory size of any array (★☆☆) \n",
    "(**hint**: size, itemsize)"
   ]
  },
  {
   "cell_type": "code",
   "execution_count": 9,
   "metadata": {},
   "outputs": [
    {
     "name": "stdout",
     "output_type": "stream",
     "text": [
      "10\n",
      "8\n"
     ]
    }
   ],
   "source": [
    "print(a.size)\n",
    "print(a.itemsize)"
   ]
  },
  {
   "cell_type": "markdown",
   "metadata": {},
   "source": [
    "#### 5.  How to get the documentation of the numpy add function from the command line? (★☆☆) \n",
    "(**hint**: np.info)"
   ]
  },
  {
   "cell_type": "code",
   "execution_count": 11,
   "metadata": {},
   "outputs": [
    {
     "name": "stdout",
     "output_type": "stream",
     "text": [
      " sum(*args, **kwargs)\n",
      "\n",
      "Sum of array elements over a given axis.\n",
      "\n",
      "Parameters\n",
      "----------\n",
      "a : array_like\n",
      "    Elements to sum.\n",
      "axis : None or int or tuple of ints, optional\n",
      "    Axis or axes along which a sum is performed.  The default,\n",
      "    axis=None, will sum all of the elements of the input array.  If\n",
      "    axis is negative it counts from the last to the first axis.\n",
      "\n",
      "    .. versionadded:: 1.7.0\n",
      "\n",
      "    If axis is a tuple of ints, a sum is performed on all of the axes\n",
      "    specified in the tuple instead of a single axis or all the axes as\n",
      "    before.\n",
      "dtype : dtype, optional\n",
      "    The type of the returned array and of the accumulator in which the\n",
      "    elements are summed.  The dtype of `a` is used by default unless `a`\n",
      "    has an integer dtype of less precision than the default platform\n",
      "    integer.  In that case, if `a` is signed then the platform integer\n",
      "    is used while if `a` is unsigned then an unsigned integer of the\n",
      "    same precision as the platform integer is used.\n",
      "out : ndarray, optional\n",
      "    Alternative output array in which to place the result. It must have\n",
      "    the same shape as the expected output, but the type of the output\n",
      "    values will be cast if necessary.\n",
      "keepdims : bool, optional\n",
      "    If this is set to True, the axes which are reduced are left\n",
      "    in the result as dimensions with size one. With this option,\n",
      "    the result will broadcast correctly against the input array.\n",
      "\n",
      "    If the default value is passed, then `keepdims` will not be\n",
      "    passed through to the `sum` method of sub-classes of\n",
      "    `ndarray`, however any non-default value will be.  If the\n",
      "    sub-class' method does not implement `keepdims` any\n",
      "    exceptions will be raised.\n",
      "initial : scalar, optional\n",
      "    Starting value for the sum. See `~numpy.ufunc.reduce` for details.\n",
      "\n",
      "    .. versionadded:: 1.15.0\n",
      "\n",
      "where : array_like of bool, optional\n",
      "    Elements to include in the sum. See `~numpy.ufunc.reduce` for details.\n",
      "\n",
      "    .. versionadded:: 1.17.0\n",
      "\n",
      "Returns\n",
      "-------\n",
      "sum_along_axis : ndarray\n",
      "    An array with the same shape as `a`, with the specified\n",
      "    axis removed.   If `a` is a 0-d array, or if `axis` is None, a scalar\n",
      "    is returned.  If an output array is specified, a reference to\n",
      "    `out` is returned.\n",
      "\n",
      "See Also\n",
      "--------\n",
      "ndarray.sum : Equivalent method.\n",
      "\n",
      "add.reduce : Equivalent functionality of `add`.\n",
      "\n",
      "cumsum : Cumulative sum of array elements.\n",
      "\n",
      "trapz : Integration of array values using the composite trapezoidal rule.\n",
      "\n",
      "mean, average\n",
      "\n",
      "Notes\n",
      "-----\n",
      "Arithmetic is modular when using integer types, and no error is\n",
      "raised on overflow.\n",
      "\n",
      "The sum of an empty array is the neutral element 0:\n",
      "\n",
      ">>> np.sum([])\n",
      "0.0\n",
      "\n",
      "For floating point numbers the numerical precision of sum (and\n",
      "``np.add.reduce``) is in general limited by directly adding each number\n",
      "individually to the result causing rounding errors in every step.\n",
      "However, often numpy will use a  numerically better approach (partial\n",
      "pairwise summation) leading to improved precision in many use-cases.\n",
      "This improved precision is always provided when no ``axis`` is given.\n",
      "When ``axis`` is given, it will depend on which axis is summed.\n",
      "Technically, to provide the best speed possible, the improved precision\n",
      "is only used when the summation is along the fast axis in memory.\n",
      "Note that the exact precision may vary depending on other parameters.\n",
      "In contrast to NumPy, Python's ``math.fsum`` function uses a slower but\n",
      "more precise approach to summation.\n",
      "Especially when summing a large number of lower precision floating point\n",
      "numbers, such as ``float32``, numerical errors can become significant.\n",
      "In such cases it can be advisable to use `dtype=\"float64\"` to use a higher\n",
      "precision for the output.\n",
      "\n",
      "Examples\n",
      "--------\n",
      ">>> np.sum([0.5, 1.5])\n",
      "2.0\n",
      ">>> np.sum([0.5, 0.7, 0.2, 1.5], dtype=np.int32)\n",
      "1\n",
      ">>> np.sum([[0, 1], [0, 5]])\n",
      "6\n",
      ">>> np.sum([[0, 1], [0, 5]], axis=0)\n",
      "array([0, 6])\n",
      ">>> np.sum([[0, 1], [0, 5]], axis=1)\n",
      "array([1, 5])\n",
      ">>> np.sum([[0, 1], [np.nan, 5]], where=[False, True], axis=1)\n",
      "array([1., 5.])\n",
      "\n",
      "If the accumulator is too small, overflow occurs:\n",
      "\n",
      ">>> np.ones(128, dtype=np.int8).sum(dtype=np.int8)\n",
      "-128\n",
      "\n",
      "You can also start the sum with a value other than zero:\n",
      "\n",
      ">>> np.sum([10], initial=5)\n",
      "15\n"
     ]
    }
   ],
   "source": [
    "np.info(np.sum)"
   ]
  },
  {
   "cell_type": "markdown",
   "metadata": {},
   "source": [
    "#### 6.  Create a null vector of size 10 but the fifth value which is 1 (★☆☆) \n",
    "(**hint**: array\\[4\\])"
   ]
  },
  {
   "cell_type": "code",
   "execution_count": 12,
   "metadata": {},
   "outputs": [
    {
     "name": "stdout",
     "output_type": "stream",
     "text": [
      "[ 1  2  3  4  5  6  7  8  9 10]\n"
     ]
    },
    {
     "data": {
      "text/plain": [
       "array([ 1,  2,  3,  4,  1,  6,  7,  8,  9, 10])"
      ]
     },
     "execution_count": 12,
     "metadata": {},
     "output_type": "execute_result"
    }
   ],
   "source": [
    "b=np.arange(1,11)\n",
    "print(b)\n",
    "b[4]=1\n",
    "b"
   ]
  },
  {
   "cell_type": "markdown",
   "metadata": {},
   "source": [
    "#### 7.  Create a vector with values ranging from 10 to 49 (★☆☆) \n",
    "(**hint**: np.arange)"
   ]
  },
  {
   "cell_type": "code",
   "execution_count": 13,
   "metadata": {},
   "outputs": [
    {
     "data": {
      "text/plain": [
       "array([10, 11, 12, 13, 14, 15, 16, 17, 18, 19, 20, 21, 22, 23, 24, 25, 26,\n",
       "       27, 28, 29, 30, 31, 32, 33, 34, 35, 36, 37, 38, 39, 40, 41, 42, 43,\n",
       "       44, 45, 46, 47, 48, 49])"
      ]
     },
     "execution_count": 13,
     "metadata": {},
     "output_type": "execute_result"
    }
   ],
   "source": [
    "c=np.arange(10,50)\n",
    "c"
   ]
  },
  {
   "cell_type": "markdown",
   "metadata": {},
   "source": [
    "#### 8.  Reverse a vector (first element becomes last) (★☆☆) \n",
    "(**hint**: array\\[::-1\\])"
   ]
  },
  {
   "cell_type": "code",
   "execution_count": 14,
   "metadata": {},
   "outputs": [
    {
     "data": {
      "text/plain": [
       "array([49, 48, 47, 46, 45, 44, 43, 42, 41, 40, 39, 38, 37, 36, 35, 34, 33,\n",
       "       32, 31, 30, 29, 28, 27, 26, 25, 24, 23, 22, 21, 20, 19, 18, 17, 16,\n",
       "       15, 14, 13, 12, 11, 10])"
      ]
     },
     "execution_count": 14,
     "metadata": {},
     "output_type": "execute_result"
    }
   ],
   "source": [
    "c[::-1]"
   ]
  },
  {
   "cell_type": "markdown",
   "metadata": {},
   "source": [
    "#### 9.  Create a 3x3 matrix with values ranging from 0 to 8 (★☆☆) \n",
    "(**hint**: reshape)"
   ]
  },
  {
   "cell_type": "code",
   "execution_count": 15,
   "metadata": {},
   "outputs": [
    {
     "data": {
      "text/plain": [
       "array([[0, 1, 2],\n",
       "       [3, 4, 5],\n",
       "       [6, 7, 8]])"
      ]
     },
     "execution_count": 15,
     "metadata": {},
     "output_type": "execute_result"
    }
   ],
   "source": [
    "d=np.arange(0,9).reshape(3,3)\n",
    "d"
   ]
  },
  {
   "cell_type": "markdown",
   "metadata": {},
   "source": [
    "#### 10. Find indices of non-zero elements from \\[1,2,0,0,4,0\\] (★☆☆) \n",
    "(**hint**: np.nonzero)"
   ]
  },
  {
   "cell_type": "code",
   "execution_count": 16,
   "metadata": {},
   "outputs": [
    {
     "data": {
      "text/plain": [
       "(array([0, 1, 4], dtype=int64),)"
      ]
     },
     "execution_count": 16,
     "metadata": {},
     "output_type": "execute_result"
    }
   ],
   "source": [
    "e=[1,2,0,0,4,0]\n",
    "np.nonzero(e)"
   ]
  },
  {
   "cell_type": "markdown",
   "metadata": {},
   "source": [
    "#### 11. Create a 3x3 identity matrix (★☆☆) \n",
    "(**hint**: np.eye)"
   ]
  },
  {
   "cell_type": "code",
   "execution_count": 17,
   "metadata": {},
   "outputs": [
    {
     "data": {
      "text/plain": [
       "array([[1., 0., 0.],\n",
       "       [0., 1., 0.],\n",
       "       [0., 0., 1.]])"
      ]
     },
     "execution_count": 17,
     "metadata": {},
     "output_type": "execute_result"
    }
   ],
   "source": [
    "np.eye(3)"
   ]
  },
  {
   "cell_type": "markdown",
   "metadata": {},
   "source": [
    "#### 12. Create a 3x3x3 array with random values (★☆☆) \n",
    "(**hint**: np.random.random)"
   ]
  },
  {
   "cell_type": "code",
   "execution_count": 19,
   "metadata": {},
   "outputs": [
    {
     "data": {
      "text/plain": [
       "array([[[0.22174977, 0.88392058, 0.91042943],\n",
       "        [0.28848462, 0.13967828, 0.91584674],\n",
       "        [0.24220556, 0.20945515, 0.67618693]],\n",
       "\n",
       "       [[0.90992657, 0.72363649, 0.31146993],\n",
       "        [0.7621614 , 0.08328478, 0.8188434 ],\n",
       "        [0.71787565, 0.68627076, 0.29028022]],\n",
       "\n",
       "       [[0.70700338, 0.94643828, 0.567922  ],\n",
       "        [0.81245392, 0.9771941 , 0.24811865],\n",
       "        [0.6710536 , 0.37401811, 0.18563778]]])"
      ]
     },
     "execution_count": 19,
     "metadata": {},
     "output_type": "execute_result"
    }
   ],
   "source": [
    "np.random.random((3,3,3))"
   ]
  },
  {
   "cell_type": "markdown",
   "metadata": {},
   "source": [
    "#### 13. Create a 10x10 array with random values and find the minimum and maximum values (★☆☆) \n",
    "(**hint**: min, max)"
   ]
  },
  {
   "cell_type": "code",
   "execution_count": 20,
   "metadata": {},
   "outputs": [
    {
     "name": "stdout",
     "output_type": "stream",
     "text": [
      "[[0.64576456 0.58681011 0.37348674 0.97048689 0.17627105 0.55994479\n",
      "  0.86241979 0.87525468 0.36609249 0.33203278]\n",
      " [0.23082527 0.80606044 0.47720878 0.95673146 0.02093918 0.1438214\n",
      "  0.09450737 0.19216788 0.91536103 0.3401914 ]\n",
      " [0.54636127 0.37808224 0.23554425 0.12512984 0.6169474  0.91381128\n",
      "  0.04241733 0.24071434 0.62552339 0.03033363]\n",
      " [0.15811922 0.97552369 0.01794177 0.9405345  0.5406871  0.75270809\n",
      "  0.96793695 0.90340184 0.33947698 0.94107573]\n",
      " [0.82031977 0.80230403 0.60237913 0.46916946 0.10648459 0.60119435\n",
      "  0.45299963 0.53965949 0.08297831 0.7834772 ]\n",
      " [0.93249295 0.70115997 0.52571369 0.15503062 0.67179894 0.25551081\n",
      "  0.72143024 0.87908435 0.08294387 0.76741974]\n",
      " [0.44285794 0.36582642 0.51590401 0.88016515 0.27855317 0.27736557\n",
      "  0.57149708 0.92756151 0.10790375 0.94795063]\n",
      " [0.62643494 0.07502078 0.21918583 0.0586997  0.0106513  0.7023003\n",
      "  0.24820793 0.61593298 0.05982137 0.32552368]\n",
      " [0.6121654  0.28846503 0.21463466 0.33793515 0.37611428 0.4204425\n",
      "  0.63511823 0.2970018  0.14997199 0.10985288]\n",
      " [0.47356407 0.32081835 0.304263   0.04515345 0.98002816 0.97160272\n",
      "  0.52121311 0.51811651 0.63131341 0.05846085]]\n",
      "0.010651295446935327 0.9800281551337091\n"
     ]
    }
   ],
   "source": [
    "e=np.random.random((10,10))\n",
    "print(e)\n",
    "print(e.min(),e.max())"
   ]
  },
  {
   "cell_type": "markdown",
   "metadata": {},
   "source": [
    "#### 14. Create a random vector of size 30 and find the mean value (★☆☆) \n",
    "(**hint**: mean)"
   ]
  },
  {
   "cell_type": "code",
   "execution_count": 21,
   "metadata": {},
   "outputs": [
    {
     "data": {
      "text/plain": [
       "0.4559426819778905"
      ]
     },
     "execution_count": 21,
     "metadata": {},
     "output_type": "execute_result"
    }
   ],
   "source": [
    "f=np.random.random(30)\n",
    "f.mean()"
   ]
  },
  {
   "cell_type": "markdown",
   "metadata": {},
   "source": [
    "#### 15. Create a 2d array with 1 on the border and 0 inside (★☆☆) \n",
    "(**hint**: array\\[1:-1, 1:-1\\])"
   ]
  },
  {
   "cell_type": "code",
   "execution_count": 22,
   "metadata": {},
   "outputs": [
    {
     "name": "stdout",
     "output_type": "stream",
     "text": [
      "[[1. 1. 1. 1. 1.]\n",
      " [1. 1. 1. 1. 1.]\n",
      " [1. 1. 1. 1. 1.]\n",
      " [1. 1. 1. 1. 1.]\n",
      " [1. 1. 1. 1. 1.]]\n"
     ]
    },
    {
     "data": {
      "text/plain": [
       "array([[1., 1., 1., 1., 1.],\n",
       "       [1., 0., 0., 0., 1.],\n",
       "       [1., 0., 0., 0., 1.],\n",
       "       [1., 0., 0., 0., 1.],\n",
       "       [1., 1., 1., 1., 1.]])"
      ]
     },
     "execution_count": 22,
     "metadata": {},
     "output_type": "execute_result"
    }
   ],
   "source": [
    "g=np.ones((5,5))\n",
    "print(g)\n",
    "g[1:-1,1:-1]=0\n",
    "g"
   ]
  },
  {
   "cell_type": "markdown",
   "metadata": {},
   "source": [
    "#### 16. How to add a border (filled with 0's) around an existing array? (★☆☆) \n",
    "(**hint**: np.pad)"
   ]
  },
  {
   "cell_type": "code",
   "execution_count": 23,
   "metadata": {},
   "outputs": [
    {
     "name": "stdout",
     "output_type": "stream",
     "text": [
      "[[1. 1. 1. 1. 1.]\n",
      " [1. 0. 0. 0. 1.]\n",
      " [1. 0. 0. 0. 1.]\n",
      " [1. 0. 0. 0. 1.]\n",
      " [1. 1. 1. 1. 1.]]\n"
     ]
    },
    {
     "data": {
      "text/plain": [
       "array([[0., 0., 0., 0., 0., 0., 0., 0., 0.],\n",
       "       [0., 0., 0., 0., 0., 0., 0., 0., 0.],\n",
       "       [0., 0., 1., 1., 1., 1., 1., 0., 0.],\n",
       "       [0., 0., 1., 0., 0., 0., 1., 0., 0.],\n",
       "       [0., 0., 1., 0., 0., 0., 1., 0., 0.],\n",
       "       [0., 0., 1., 0., 0., 0., 1., 0., 0.],\n",
       "       [0., 0., 1., 1., 1., 1., 1., 0., 0.],\n",
       "       [0., 0., 0., 0., 0., 0., 0., 0., 0.],\n",
       "       [0., 0., 0., 0., 0., 0., 0., 0., 0.]])"
      ]
     },
     "execution_count": 23,
     "metadata": {},
     "output_type": "execute_result"
    }
   ],
   "source": [
    "print(g)\n",
    "np.pad(g,pad_width=2,mode=\"constant\",constant_values=0)"
   ]
  },
  {
   "cell_type": "markdown",
   "metadata": {},
   "source": [
    "#### 17. What is the result of the following expression? (★☆☆) \n",
    "(**hint**: NaN = not a number, inf = infinity)"
   ]
  },
  {
   "cell_type": "markdown",
   "metadata": {},
   "source": [
    "```python\n",
    "0 * np.nan\n",
    "np.nan == np.nan\n",
    "np.inf > np.nan\n",
    "np.nan - np.nan\n",
    "0.3 == 3 * 0.1\n",
    "```"
   ]
  },
  {
   "cell_type": "code",
   "execution_count": 24,
   "metadata": {},
   "outputs": [
    {
     "name": "stdout",
     "output_type": "stream",
     "text": [
      "nan\n",
      "False\n",
      "False\n",
      "nan\n",
      "False\n"
     ]
    }
   ],
   "source": [
    "print(0*np.nan)\n",
    "print(np.nan==np.nan)\n",
    "print(np.inf>np.nan)\n",
    "print(np.nan-np.nan)\n",
    "print(0.3==3*0.1)"
   ]
  },
  {
   "cell_type": "markdown",
   "metadata": {},
   "source": [
    "#### 18. Create a 5x5 matrix with values 1,2,3,4 just below the diagonal (★☆☆) \n",
    "(**hint**: np.diag)"
   ]
  },
  {
   "cell_type": "code",
   "execution_count": 25,
   "metadata": {},
   "outputs": [
    {
     "data": {
      "text/plain": [
       "array([[0, 0, 0, 0, 0],\n",
       "       [1, 0, 0, 0, 0],\n",
       "       [0, 2, 0, 0, 0],\n",
       "       [0, 0, 3, 0, 0],\n",
       "       [0, 0, 0, 4, 0]])"
      ]
     },
     "execution_count": 25,
     "metadata": {},
     "output_type": "execute_result"
    }
   ],
   "source": [
    "np.diag([1,2,3,4],k=-1)\n"
   ]
  },
  {
   "cell_type": "markdown",
   "metadata": {},
   "source": [
    "#### 19. Create a 8x8 matrix and fill it with a checkerboard pattern (★☆☆) \n",
    "(**hint**: array\\[::2\\])"
   ]
  },
  {
   "cell_type": "code",
   "execution_count": 26,
   "metadata": {},
   "outputs": [
    {
     "data": {
      "text/plain": [
       "array([[1., 0., 1., 0., 1., 0., 1., 0.],\n",
       "       [0., 1., 0., 1., 0., 1., 0., 1.],\n",
       "       [1., 0., 1., 0., 1., 0., 1., 0.],\n",
       "       [0., 1., 0., 1., 0., 1., 0., 1.],\n",
       "       [1., 0., 1., 0., 1., 0., 1., 0.],\n",
       "       [0., 1., 0., 1., 0., 1., 0., 1.],\n",
       "       [1., 0., 1., 0., 1., 0., 1., 0.],\n",
       "       [0., 1., 0., 1., 0., 1., 0., 1.]])"
      ]
     },
     "execution_count": 26,
     "metadata": {},
     "output_type": "execute_result"
    }
   ],
   "source": [
    "g=np.ones((8,8))\n",
    "g[1::2,::2]=0\n",
    "g[::2,1::2]=0\n",
    "g"
   ]
  },
  {
   "cell_type": "markdown",
   "metadata": {},
   "source": [
    "#### 20. Consider a (6,7,8) shape array, what is the index (x,y,z) of the 100th element? \n",
    "(**hint**: np.unravel_index)"
   ]
  },
  {
   "cell_type": "code",
   "execution_count": 27,
   "metadata": {},
   "outputs": [
    {
     "data": {
      "text/plain": [
       "(1, 5, 4)"
      ]
     },
     "execution_count": 27,
     "metadata": {},
     "output_type": "execute_result"
    }
   ],
   "source": [
    "np.unravel_index(100,(6,7,8))"
   ]
  },
  {
   "cell_type": "markdown",
   "metadata": {},
   "source": [
    "#### 21. Create a checkerboard 8x8 matrix using the tile function (★☆☆) \n",
    "(**hint**: np.tile)"
   ]
  },
  {
   "cell_type": "code",
   "execution_count": 28,
   "metadata": {},
   "outputs": [
    {
     "data": {
      "text/plain": [
       "array([[0, 1, 0, 1, 0, 1, 0, 1],\n",
       "       [1, 0, 1, 0, 1, 0, 1, 0],\n",
       "       [0, 1, 0, 1, 0, 1, 0, 1],\n",
       "       [1, 0, 1, 0, 1, 0, 1, 0],\n",
       "       [0, 1, 0, 1, 0, 1, 0, 1],\n",
       "       [1, 0, 1, 0, 1, 0, 1, 0],\n",
       "       [0, 1, 0, 1, 0, 1, 0, 1],\n",
       "       [1, 0, 1, 0, 1, 0, 1, 0]])"
      ]
     },
     "execution_count": 28,
     "metadata": {},
     "output_type": "execute_result"
    }
   ],
   "source": [
    "np.tile(np.array([[0,1],[1,0]]),(4,4))\n"
   ]
  },
  {
   "cell_type": "markdown",
   "metadata": {},
   "source": [
    "#### 22. Normalize a 5x5 random matrix (★☆☆) \n",
    "(**hint**: (x - min) / (max - min))"
   ]
  },
  {
   "cell_type": "code",
   "execution_count": 29,
   "metadata": {},
   "outputs": [
    {
     "name": "stdout",
     "output_type": "stream",
     "text": [
      "[[0.98642549 0.32516853 0.00583498 0.41844429 0.93016422]\n",
      " [0.28466345 0.7473657  0.33767198 0.78918034 0.00778712]\n",
      " [0.55382981 0.81184934 0.14397341 0.02533276 0.52614173]\n",
      " [0.86362752 0.33039299 0.83740267 0.3298564  0.0023704 ]\n",
      " [0.30158108 0.29281171 0.14463492 0.49414533 0.77888074]]\n"
     ]
    },
    {
     "name": "stderr",
     "output_type": "stream",
     "text": [
      "D:\\Applications\\Anaconda\\lib\\site-packages\\ipykernel_launcher.py:3: RuntimeWarning: divide by zero encountered in true_divide\n",
      "  This is separate from the ipykernel package so we can avoid doing imports until\n",
      "D:\\Applications\\Anaconda\\lib\\site-packages\\ipykernel_launcher.py:3: RuntimeWarning: invalid value encountered in true_divide\n",
      "  This is separate from the ipykernel package so we can avoid doing imports until\n"
     ]
    },
    {
     "data": {
      "text/plain": [
       "array([[inf, inf, inf, inf, inf],\n",
       "       [inf, inf, inf, inf, inf],\n",
       "       [inf, inf, inf, inf, inf],\n",
       "       [inf, inf, inf, inf, nan],\n",
       "       [inf, inf, inf, inf, inf]])"
      ]
     },
     "execution_count": 29,
     "metadata": {},
     "output_type": "execute_result"
    }
   ],
   "source": [
    "x=np.random.random((5,5))\n",
    "print(x)\n",
    "(x-x.min())/(x.max()-x.max())"
   ]
  },
  {
   "cell_type": "markdown",
   "metadata": {},
   "source": [
    "#### 23. Create a custom dtype that describes a color as four unsigned bytes (RGBA) (★☆☆) \n",
    "(**hint**: np.dtype)"
   ]
  },
  {
   "cell_type": "code",
   "execution_count": 30,
   "metadata": {},
   "outputs": [
    {
     "name": "stdout",
     "output_type": "stream",
     "text": [
      "4\n"
     ]
    },
    {
     "data": {
      "text/plain": [
       "numpy.ndarray"
      ]
     },
     "execution_count": 30,
     "metadata": {},
     "output_type": "execute_result"
    }
   ],
   "source": [
    "RGBA = np.dtype([('r',np.uint8),('g',np.uint8),('b',np.uint8),('a',np.uint8)])\n",
    "color = np.array((1,2,3,4),dtype = RGBA)\n",
    "print(color['a'])\n",
    "type(color)"
   ]
  },
  {
   "cell_type": "markdown",
   "metadata": {},
   "source": [
    "#### 24. Multiply a 5x3 matrix by a 3x2 matrix (real matrix product) (★☆☆) \n",
    "(**hint**: np.dot | @)"
   ]
  },
  {
   "cell_type": "code",
   "execution_count": 31,
   "metadata": {},
   "outputs": [
    {
     "data": {
      "text/plain": [
       "array([[0.65006286, 0.24335631],\n",
       "       [1.89007627, 0.90398746],\n",
       "       [0.66922479, 0.3090131 ],\n",
       "       [1.26629078, 0.62565916],\n",
       "       [1.42562011, 0.63564014]])"
      ]
     },
     "execution_count": 31,
     "metadata": {},
     "output_type": "execute_result"
    }
   ],
   "source": [
    "x=np.random.random((5,3))\n",
    "y=np.random.random((3,2))\n",
    "np.dot(x,y)"
   ]
  },
  {
   "cell_type": "markdown",
   "metadata": {},
   "source": [
    "#### 25. Given a 1D array, negate all elements which are between 3 and 8, in place. (★☆☆) \n",
    "(**hint**: >, <=)"
   ]
  },
  {
   "cell_type": "code",
   "execution_count": 32,
   "metadata": {},
   "outputs": [
    {
     "name": "stdout",
     "output_type": "stream",
     "text": [
      "[ 1  2  3  4  5  6  7  8  9 10]\n"
     ]
    },
    {
     "data": {
      "text/plain": [
       "array([ 1,  2,  3, -4, -5, -6, -7,  8,  9, 10])"
      ]
     },
     "execution_count": 32,
     "metadata": {},
     "output_type": "execute_result"
    }
   ],
   "source": [
    "m=np.arange(1,11)\n",
    "print(m)\n",
    "m[(3<m)&(m<8)]*=-1\n",
    "m"
   ]
  },
  {
   "cell_type": "markdown",
   "metadata": {},
   "source": [
    "#### 26. What is the output of the following script? (★☆☆) \n",
    "(**hint**: np.sum)"
   ]
  },
  {
   "cell_type": "markdown",
   "metadata": {},
   "source": [
    "```python\n",
    "# Author: Jake VanderPlas\n",
    "\n",
    "print(sum(range(5),-1))\n",
    "from numpy import *\n",
    "print(sum(range(5),-1))\n",
    "```"
   ]
  },
  {
   "cell_type": "code",
   "execution_count": 33,
   "metadata": {},
   "outputs": [
    {
     "name": "stdout",
     "output_type": "stream",
     "text": [
      "9\n",
      "10\n"
     ]
    }
   ],
   "source": [
    "print(sum(range(5),-1))\n",
    "from numpy import *\n",
    "print(sum(range(5),-1))"
   ]
  },
  {
   "cell_type": "markdown",
   "metadata": {},
   "source": [
    "#### 27. Consider an integer vector Z, which of these expressions are legal? (★☆☆)"
   ]
  },
  {
   "cell_type": "markdown",
   "metadata": {},
   "source": [
    "```python\n",
    "Z**Z\n",
    "2 << Z >> 2\n",
    "Z <- Z\n",
    "1j*Z\n",
    "Z/1/1\n",
    "Z<Z>Z\n",
    "```"
   ]
  },
  {
   "cell_type": "code",
   "execution_count": 34,
   "metadata": {},
   "outputs": [
    {
     "name": "stdout",
     "output_type": "stream",
     "text": [
      "[        1         4        27       256      3125     46656    823543\n",
      "  16777216 387420489]\n",
      "[  16   32   64  128  256  512 1024 2048 4096]\n",
      "[False False False False False False False False False]\n",
      "[0.+1.j 0.+2.j 0.+3.j 0.+4.j 0.+5.j 0.+6.j 0.+7.j 0.+8.j 0.+9.j]\n",
      "[1. 2. 3. 4. 5. 6. 7. 8. 9.]\n"
     ]
    }
   ],
   "source": [
    "z=arange(1,10)\n",
    "print(z**z)\n",
    "print(2<<z<<2)\n",
    "print(z<-z)\n",
    "print(1j*z)\n",
    "print(z/1/1)\n",
    "# print(z<z<z)"
   ]
  },
  {
   "cell_type": "markdown",
   "metadata": {},
   "source": [
    "#### 28. What are the result of the following expressions?"
   ]
  },
  {
   "cell_type": "markdown",
   "metadata": {},
   "source": [
    "```python\n",
    "np.array(0) / np.array(0)\n",
    "np.array(0) // np.array(0)\n",
    "np.array([np.nan]).astype(int).astype(float)\n",
    "```"
   ]
  },
  {
   "cell_type": "code",
   "execution_count": 35,
   "metadata": {},
   "outputs": [
    {
     "name": "stderr",
     "output_type": "stream",
     "text": [
      "D:\\Applications\\Anaconda\\lib\\site-packages\\ipykernel_launcher.py:1: RuntimeWarning: invalid value encountered in true_divide\n",
      "  \"\"\"Entry point for launching an IPython kernel.\n",
      "D:\\Applications\\Anaconda\\lib\\site-packages\\ipykernel_launcher.py:2: RuntimeWarning: divide by zero encountered in floor_divide\n",
      "  \n"
     ]
    },
    {
     "data": {
      "text/plain": [
       "array([-2.14748365e+09])"
      ]
     },
     "execution_count": 35,
     "metadata": {},
     "output_type": "execute_result"
    }
   ],
   "source": [
    "np.array(0)/np.array(0)\n",
    "np.array(0)//np.array(0)\n",
    "np.array([np.nan]).astype(int).astype(float)"
   ]
  },
  {
   "cell_type": "markdown",
   "metadata": {},
   "source": [
    "#### 29. How to round away from zero a float array ? (★☆☆) \n",
    "(**hint**: np.uniform, np.copysign, np.ceil, np.abs)"
   ]
  },
  {
   "cell_type": "code",
   "execution_count": 36,
   "metadata": {},
   "outputs": [
    {
     "name": "stdout",
     "output_type": "stream",
     "text": [
      "[ 3.25892703  6.18230055 -7.89549083 -3.48268121  3.27162955]\n"
     ]
    },
    {
     "data": {
      "text/plain": [
       "array([ 4.,  7., -7., -3.,  4.])"
      ]
     },
     "execution_count": 36,
     "metadata": {},
     "output_type": "execute_result"
    }
   ],
   "source": [
    "j=np.random.uniform(-8,8,5)\n",
    "print(j)\n",
    "np.copysign(j,+2)\n",
    "np.abs(j)\n",
    "np.ceil(j)#round"
   ]
  },
  {
   "cell_type": "markdown",
   "metadata": {},
   "source": [
    "#### 30. How to find common values between two arrays? (★☆☆) \n",
    "(**hint**: np.intersect1d)"
   ]
  },
  {
   "cell_type": "code",
   "execution_count": 37,
   "metadata": {},
   "outputs": [
    {
     "data": {
      "text/plain": [
       "array([6, 7, 8, 9])"
      ]
     },
     "execution_count": 37,
     "metadata": {},
     "output_type": "execute_result"
    }
   ],
   "source": [
    "k=np.arange(1,10)\n",
    "l=np.arange(6,15)\n",
    "np.intersect1d(k,l)"
   ]
  },
  {
   "cell_type": "markdown",
   "metadata": {},
   "source": [
    "#### 31. How to ignore all numpy warnings (not recommended)? (★☆☆) \n",
    "(**hint**: np.seterr, np.errstate)"
   ]
  },
  {
   "cell_type": "code",
   "execution_count": 38,
   "metadata": {},
   "outputs": [
    {
     "name": "stdout",
     "output_type": "stream",
     "text": [
      "{'divide': 'warn', 'over': 'warn', 'under': 'ignore', 'invalid': 'warn'}\n"
     ]
    },
    {
     "data": {
      "text/plain": [
       "<numpy.errstate at 0x2136d485588>"
      ]
     },
     "execution_count": 38,
     "metadata": {},
     "output_type": "execute_result"
    }
   ],
   "source": [
    "print(np.seterr())\n",
    "np.errstate()"
   ]
  },
  {
   "cell_type": "markdown",
   "metadata": {},
   "source": [
    "#### 32. Is the following expressions true? (★☆☆) \n",
    "(**hint**: imaginary number)"
   ]
  },
  {
   "cell_type": "markdown",
   "metadata": {},
   "source": [
    "```python\n",
    "np.sqrt(-1) == np.emath.sqrt(-1)\n",
    "```"
   ]
  },
  {
   "cell_type": "code",
   "execution_count": 39,
   "metadata": {},
   "outputs": [
    {
     "name": "stderr",
     "output_type": "stream",
     "text": [
      "D:\\Applications\\Anaconda\\lib\\site-packages\\ipykernel_launcher.py:1: RuntimeWarning: invalid value encountered in sqrt\n",
      "  \"\"\"Entry point for launching an IPython kernel.\n"
     ]
    },
    {
     "data": {
      "text/plain": [
       "False"
      ]
     },
     "execution_count": 39,
     "metadata": {},
     "output_type": "execute_result"
    }
   ],
   "source": [
    "np.sqrt(-1) == np.emath.sqrt(-1)\n"
   ]
  },
  {
   "cell_type": "markdown",
   "metadata": {},
   "source": [
    "#### 33. How to get the dates of yesterday, today and tomorrow? (★☆☆) \n",
    "(**hint**: np.datetime64, np.timedelta64)"
   ]
  },
  {
   "cell_type": "code",
   "execution_count": 41,
   "metadata": {},
   "outputs": [
    {
     "name": "stdout",
     "output_type": "stream",
     "text": [
      "Yesterday:  2022-05-28\n",
      "Today:  2022-05-29\n",
      "Tomorrow:  2022-05-30\n"
     ]
    }
   ],
   "source": [
    "y = np.datetime64('today', 'D') - np.timedelta64(1, 'D')\n",
    "print(\"Yesterday: \",y)\n",
    "t     = np.datetime64('today', 'D')\n",
    "print(\"Today: \",t)\n",
    "tomorrow  = np.datetime64('today', 'D') + np.timedelta64(1, 'D')\n",
    "print(\"Tomorrow: \",tomorrow)"
   ]
  },
  {
   "cell_type": "markdown",
   "metadata": {},
   "source": [
    "#### 34. How to get all the dates corresponding to the month of July 2016? (★★☆) \n",
    "(**hint**: np.arange(dtype=datetime64\\['D'\\]))"
   ]
  },
  {
   "cell_type": "code",
   "execution_count": 42,
   "metadata": {},
   "outputs": [
    {
     "data": {
      "text/plain": [
       "array(['2016-07-01', '2016-07-02', '2016-07-03', '2016-07-04',\n",
       "       '2016-07-05', '2016-07-06', '2016-07-07', '2016-07-08',\n",
       "       '2016-07-09', '2016-07-10', '2016-07-11', '2016-07-12',\n",
       "       '2016-07-13', '2016-07-14', '2016-07-15', '2016-07-16',\n",
       "       '2016-07-17', '2016-07-18', '2016-07-19', '2016-07-20',\n",
       "       '2016-07-21', '2016-07-22', '2016-07-23', '2016-07-24',\n",
       "       '2016-07-25', '2016-07-26', '2016-07-27', '2016-07-28',\n",
       "       '2016-07-29', '2016-07-30', '2016-07-31'], dtype='datetime64[D]')"
      ]
     },
     "execution_count": 42,
     "metadata": {},
     "output_type": "execute_result"
    }
   ],
   "source": [
    "np.arange(\"2016-07\",\"2016-08\",dtype='datetime64[D]')\n"
   ]
  },
  {
   "cell_type": "markdown",
   "metadata": {},
   "source": [
    "#### 35. How to compute ((A+B)\\*(-A/2)) in place (without copy)? (★★☆) \n",
    "(**hint**: np.add(out=), np.negative(out=), np.multiply(out=), np.divide(out=))"
   ]
  },
  {
   "cell_type": "code",
   "execution_count": 43,
   "metadata": {},
   "outputs": [
    {
     "data": {
      "text/plain": [
       "array([-5., -5., -5.])"
      ]
     },
     "execution_count": 43,
     "metadata": {},
     "output_type": "execute_result"
    }
   ],
   "source": [
    "p=np.ones(3)*2\n",
    "q=np.ones(3)*3\n",
    "np.multiply((np.add(p,q)),np.divide(np.negative(p),2))"
   ]
  },
  {
   "cell_type": "markdown",
   "metadata": {},
   "source": [
    "#### 36. Extract the integer part of a random array using 5 different methods (★★☆) \n",
    "(**hint**: %, np.floor, np.ceil, astype, np.trunc)"
   ]
  },
  {
   "cell_type": "code",
   "execution_count": 44,
   "metadata": {},
   "outputs": [
    {
     "name": "stdout",
     "output_type": "stream",
     "text": [
      "[ 1.    3.25  5.5   7.75 10.  ]\n",
      "[ 0.  2.  4.  6. 10.]\n",
      "[ 1.  3.  5.  7. 10.]\n",
      "[ 1.  4.  6.  8. 10.]\n",
      "[ 1.  3.  5.  7. 10.]\n",
      "[ 1.  +0.j  3.25+0.j  5.5 +0.j  7.75+0.j 10.  +0.j]\n"
     ]
    }
   ],
   "source": [
    "o=np.linspace(1,10,5)\n",
    "print(o)\n",
    "print(o-o%2)\n",
    "print(np.floor(o))\n",
    "print(np.ceil(o))\n",
    "print(np.trunc(o))\n",
    "print(o.astype(complex))"
   ]
  },
  {
   "cell_type": "markdown",
   "metadata": {},
   "source": [
    "#### 37. Create a 5x5 matrix with row values ranging from 0 to 4 (★★☆) \n",
    "(**hint**: np.arange)"
   ]
  },
  {
   "cell_type": "code",
   "execution_count": 45,
   "metadata": {},
   "outputs": [
    {
     "name": "stdout",
     "output_type": "stream",
     "text": [
      "[[0 1 2 3 4]\n",
      " [0 1 2 3 4]\n",
      " [0 1 2 3 4]\n",
      " [0 1 2 3 4]\n",
      " [0 1 2 3 4]]\n"
     ]
    },
    {
     "data": {
      "text/plain": [
       "(5, 5)"
      ]
     },
     "execution_count": 45,
     "metadata": {},
     "output_type": "execute_result"
    }
   ],
   "source": [
    "s=np.tile(np.arange(0,5),(5,1))\n",
    "print(s)\n",
    "s.shape"
   ]
  },
  {
   "cell_type": "markdown",
   "metadata": {},
   "source": [
    "#### 38. Consider a generator function that generates 10 integers and use it to build an array (★☆☆) \n",
    "(**hint**: np.fromiter)"
   ]
  },
  {
   "cell_type": "code",
   "execution_count": 46,
   "metadata": {},
   "outputs": [
    {
     "data": {
      "text/plain": [
       "array([0, 1, 2, 3, 4, 5, 6, 7, 8, 9])"
      ]
     },
     "execution_count": 46,
     "metadata": {},
     "output_type": "execute_result"
    }
   ],
   "source": [
    "def generator():\n",
    "  for i in range(0,10):\n",
    "        yield i\n",
    "np.fromiter(generator(),dtype=int)"
   ]
  },
  {
   "cell_type": "markdown",
   "metadata": {},
   "source": [
    "#### 39. Create a vector of size 10 with values ranging from 0 to 1, both excluded (★★☆) \n",
    "(**hint**: np.linspace)"
   ]
  },
  {
   "cell_type": "code",
   "execution_count": 47,
   "metadata": {},
   "outputs": [
    {
     "data": {
      "text/plain": [
       "array([0.09090909, 0.18181818, 0.27272727, 0.36363636, 0.45454545,\n",
       "       0.54545455, 0.63636364, 0.72727273, 0.81818182, 0.90909091])"
      ]
     },
     "execution_count": 47,
     "metadata": {},
     "output_type": "execute_result"
    }
   ],
   "source": [
    "np.linspace(0,1,12,endpoint=True)[1:-1]\n"
   ]
  },
  {
   "cell_type": "markdown",
   "metadata": {},
   "source": [
    "#### 40. Create a random vector of size 10 and sort it (★★☆) \n",
    "(**hint**: sort)"
   ]
  },
  {
   "cell_type": "code",
   "execution_count": 48,
   "metadata": {},
   "outputs": [
    {
     "data": {
      "text/plain": [
       "array([[0, 1, 2, 3, 4],\n",
       "       [0, 1, 2, 3, 4],\n",
       "       [0, 1, 2, 3, 4],\n",
       "       [0, 1, 2, 3, 4],\n",
       "       [0, 1, 2, 3, 4]])"
      ]
     },
     "execution_count": 48,
     "metadata": {},
     "output_type": "execute_result"
    }
   ],
   "source": [
    "rv=np.random.randint(20,size=10)\n",
    "rv.sort()\n",
    "s"
   ]
  },
  {
   "cell_type": "markdown",
   "metadata": {},
   "source": [
    "#### 41. How to sum a small array faster than np.sum? (★★☆) \n",
    "(**hint**: np.add.reduce)"
   ]
  },
  {
   "cell_type": "code",
   "execution_count": 49,
   "metadata": {},
   "outputs": [
    {
     "data": {
      "text/plain": [
       "array([[27, 30, 33],\n",
       "       [36, 39, 42],\n",
       "       [45, 48, 51]])"
      ]
     },
     "execution_count": 49,
     "metadata": {},
     "output_type": "execute_result"
    }
   ],
   "source": [
    "np.add.reduce(np.arange(27).reshape((3,3,3)),0)\n"
   ]
  },
  {
   "cell_type": "markdown",
   "metadata": {},
   "source": [
    "#### 42. Consider two random array A and B, check if they are equal (★★☆) \n",
    "(**hint**: np.allclose, np.array\\_equal)"
   ]
  },
  {
   "cell_type": "code",
   "execution_count": 50,
   "metadata": {},
   "outputs": [
    {
     "data": {
      "text/plain": [
       "False"
      ]
     },
     "execution_count": 50,
     "metadata": {},
     "output_type": "execute_result"
    }
   ],
   "source": [
    "A=np.random.randint(10,20,5)\n",
    "B=np.random.randint(10,20,5)\n",
    "np.array_equal(A,B)"
   ]
  },
  {
   "cell_type": "markdown",
   "metadata": {},
   "source": [
    "#### 43. Make an array immutable (read-only) (★★☆) \n",
    "(**hint**: flags.writeable)"
   ]
  },
  {
   "cell_type": "code",
   "execution_count": 51,
   "metadata": {},
   "outputs": [
    {
     "name": "stdout",
     "output_type": "stream",
     "text": [
      "[0 1 2 3 4 5 6 7 8 9]\n"
     ]
    },
    {
     "data": {
      "text/plain": [
       "array([0, 1, 2, 3, 4, 5, 6, 7, 8, 9])"
      ]
     },
     "execution_count": 51,
     "metadata": {},
     "output_type": "execute_result"
    }
   ],
   "source": [
    "z=np.arange(0,10)\n",
    "print(z)\n",
    "z.flags.writeable=False\n",
    "z"
   ]
  },
  {
   "cell_type": "markdown",
   "metadata": {},
   "source": [
    "#### 44. Consider a random 10x2 matrix representing cartesian coordinates, convert them to polar coordinates (★★☆) \n",
    "(**hint**: np.sqrt, np.arctan2)"
   ]
  },
  {
   "cell_type": "code",
   "execution_count": 52,
   "metadata": {},
   "outputs": [
    {
     "name": "stdout",
     "output_type": "stream",
     "text": [
      "[0.95382575 0.61044686 0.52928956 0.73417569 1.02559378 0.51428152\n",
      " 1.03601644 1.10952111 0.29707455 0.71356601]\n",
      "[0.37713025 0.01497439 0.74295739 0.25178642 1.32804488 1.04690554\n",
      " 0.65319219 1.03228304 0.10109559 0.95068058]\n"
     ]
    }
   ],
   "source": [
    "a=np.random.random((10,2))\n",
    "x,y=a[:,0],a[:,1]\n",
    "r=np.sqrt(x**2 + y**2)\n",
    "Deg=np.arctan2(y,x)\n",
    "print(r)\n",
    "print(Deg)"
   ]
  },
  {
   "cell_type": "markdown",
   "metadata": {},
   "source": [
    "#### 45. Create random vector of size 10 and replace the maximum value by 0 (★★☆) \n",
    "(**hint**: argmax)"
   ]
  },
  {
   "cell_type": "code",
   "execution_count": 53,
   "metadata": {},
   "outputs": [
    {
     "name": "stdout",
     "output_type": "stream",
     "text": [
      "[14 13 19 29 16 22 11 28 13 23]\n"
     ]
    },
    {
     "data": {
      "text/plain": [
       "array([14, 13, 19,  0, 16, 22, 11, 28, 13, 23])"
      ]
     },
     "execution_count": 53,
     "metadata": {},
     "output_type": "execute_result"
    }
   ],
   "source": [
    "m=np.random.randint(10,30,10)\n",
    "print(m)\n",
    "m[argmax(m)]=0\n",
    "m"
   ]
  },
  {
   "cell_type": "markdown",
   "metadata": {},
   "source": [
    "#### 46. Create a structured array with `x` and `y` coordinates covering the \\[0,1\\]x\\[0,1\\] area (★★☆) \n",
    "(**hint**: np.meshgrid)"
   ]
  },
  {
   "cell_type": "code",
   "execution_count": 54,
   "metadata": {},
   "outputs": [
    {
     "name": "stdout",
     "output_type": "stream",
     "text": [
      "[[(0, 0) (0, 0) (0, 0) (0, 0) (1, 0)]\n",
      " [(0, 0) (0, 0) (0, 0) (0, 0) (1, 0)]\n",
      " [(0, 0) (0, 0) (0, 0) (0, 0) (1, 0)]\n",
      " [(0, 0) (0, 0) (0, 0) (0, 0) (1, 0)]\n",
      " [(0, 1) (0, 1) (0, 1) (0, 1) (1, 1)]]\n"
     ]
    }
   ],
   "source": [
    "Z = np.ones((5,5), [('x',int),('y',int)])\n",
    "Z['x'], Z['y'] = np.meshgrid(np.linspace(0,1,5),np.linspace(0,1,5))\n",
    "print(Z)"
   ]
  },
  {
   "cell_type": "markdown",
   "metadata": {},
   "source": [
    "####  47. Given two arrays, X and Y, construct the Cauchy matrix C (Cij =1/(xi - yj)) \n",
    "(**hint**: np.subtract.outer)"
   ]
  },
  {
   "cell_type": "code",
   "execution_count": 55,
   "metadata": {},
   "outputs": [
    {
     "name": "stdout",
     "output_type": "stream",
     "text": [
      "[[1 2]\n",
      " [3 4]]\n",
      "[[5 6]\n",
      " [7 8]]\n"
     ]
    },
    {
     "data": {
      "text/plain": [
       "array([[[[-0.25      , -0.2       ],\n",
       "         [-0.16666667, -0.14285714]],\n",
       "\n",
       "        [[-0.33333333, -0.25      ],\n",
       "         [-0.2       , -0.16666667]]],\n",
       "\n",
       "\n",
       "       [[[-0.5       , -0.33333333],\n",
       "         [-0.25      , -0.2       ]],\n",
       "\n",
       "        [[-1.        , -0.5       ],\n",
       "         [-0.33333333, -0.25      ]]]])"
      ]
     },
     "execution_count": 55,
     "metadata": {},
     "output_type": "execute_result"
    }
   ],
   "source": [
    "X = np.arange(1,5).reshape(2,2)\n",
    "print(X)\n",
    "Y = np.arange(5,9).reshape(2,2)\n",
    "print(Y)\n",
    "C = (1/(np.subtract.outer(X,Y)))\n",
    "C"
   ]
  },
  {
   "cell_type": "markdown",
   "metadata": {},
   "source": [
    "#### 48. Print the minimum and maximum representable value for each numpy scalar type (★★☆) \n",
    "(**hint**: np.iinfo, np.finfo, eps)"
   ]
  },
  {
   "cell_type": "code",
   "execution_count": 56,
   "metadata": {},
   "outputs": [
    {
     "name": "stdout",
     "output_type": "stream",
     "text": [
      "-128 127\n",
      "-32768 32767\n",
      "-2147483648 2147483647\n",
      "-9223372036854775808 9223372036854775807\n",
      "-65500.0 65500.0 0.000977\n",
      "-3.4028235e+38 3.4028235e+38 1.1920929e-07\n",
      "-1.7976931348623157e+308 1.7976931348623157e+308 2.220446049250313e-16\n"
     ]
    }
   ],
   "source": [
    "for dtype in [np.int8,np.int16, np.int32, np.int64]:\n",
    "   print(np.iinfo(dtype).min,np.iinfo(dtype).max)\n",
    "for dtype in [np.float16,np.float32, np.float64]:\n",
    "   print(np.finfo(dtype).min,np.finfo(dtype).max,np.finfo(dtype).eps)"
   ]
  },
  {
   "cell_type": "markdown",
   "metadata": {},
   "source": [
    "#### 49. How to print all the values of an array? (★★☆) \n",
    "(**hint**: np.set\\_printoptions)"
   ]
  },
  {
   "cell_type": "code",
   "execution_count": 57,
   "metadata": {},
   "outputs": [
    {
     "data": {
      "text/plain": [
       "array([[[[-0.25, -0.2 ],\n",
       "         [-0.17, -0.14]],\n",
       "\n",
       "        [[-0.33, -0.25],\n",
       "         [-0.2 , -0.17]]],\n",
       "\n",
       "\n",
       "       [[[-0.5 , -0.33],\n",
       "         [-0.25, -0.2 ]],\n",
       "\n",
       "        [[-1.  , -0.5 ],\n",
       "         [-0.33, -0.25]]]])"
      ]
     },
     "execution_count": 57,
     "metadata": {},
     "output_type": "execute_result"
    }
   ],
   "source": [
    "np.set_printoptions(precision=2,threshold=None)\n",
    "C"
   ]
  },
  {
   "cell_type": "markdown",
   "metadata": {},
   "source": [
    "#### 50. How to find the closest value (to a given scalar) in a vector? (★★☆) \n",
    "(**hint**: argmin)"
   ]
  },
  {
   "cell_type": "code",
   "execution_count": 58,
   "metadata": {},
   "outputs": [
    {
     "name": "stdout",
     "output_type": "stream",
     "text": [
      "5.217981766733326\n",
      "5\n"
     ]
    }
   ],
   "source": [
    "c=np.arange(100)\n",
    "d=np.random.uniform(0,100)\n",
    "print(d)\n",
    "index=(np.abs(c-d)).argmin()\n",
    "print(c[index])"
   ]
  },
  {
   "cell_type": "markdown",
   "metadata": {},
   "source": [
    "#### 51. Create a structured array representing a position (x,y) and a color (r,g,b) (★★☆) \n",
    "(**hint**: dtype)"
   ]
  },
  {
   "cell_type": "code",
   "execution_count": 59,
   "metadata": {},
   "outputs": [
    {
     "name": "stderr",
     "output_type": "stream",
     "text": [
      "D:\\Applications\\Anaconda\\lib\\site-packages\\numpy\\core\\numeric.py:214: FutureWarning: Passing (type, 1) or '1type' as a synonym of type is deprecated; in a future version of numpy, it will be understood as (type, (1,)) / '(1,)type'.\n",
      "  a = empty(shape, dtype, order)\n"
     ]
    },
    {
     "data": {
      "text/plain": [
       "array([((1., 1.), (1., 1., 1.)), ((1., 1.), (1., 1., 1.)),\n",
       "       ((1., 1.), (1., 1., 1.)), ((1., 1.), (1., 1., 1.)),\n",
       "       ((1., 1.), (1., 1., 1.)), ((1., 1.), (1., 1., 1.)),\n",
       "       ((1., 1.), (1., 1., 1.)), ((1., 1.), (1., 1., 1.)),\n",
       "       ((1., 1.), (1., 1., 1.)), ((1., 1.), (1., 1., 1.))],\n",
       "      dtype=[('position', [('x', '<f8'), ('y', '<f8')]), ('color', [('r', '<f8'), ('g', '<f8'), ('b', '<f8')])])"
      ]
     },
     "execution_count": 59,
     "metadata": {},
     "output_type": "execute_result"
    }
   ],
   "source": [
    "np.ones(10,[('position',[('x',float,1),\n",
    "                            ('y',float,1)]),\n",
    "               ('color',[('r',float,1),\n",
    "                         ('g',float,1),\n",
    "                         ('b',float,1)])])"
   ]
  },
  {
   "cell_type": "markdown",
   "metadata": {},
   "source": [
    "#### 52. Consider a random vector with shape (100,2) representing coordinates, find point by point distances (★★☆) \n",
    "(**hint**: np.atleast\\_2d, T, np.sqrt)"
   ]
  },
  {
   "cell_type": "code",
   "execution_count": 60,
   "metadata": {},
   "outputs": [
    {
     "name": "stdout",
     "output_type": "stream",
     "text": [
      "[[0.   0.11 0.37 ... 0.34 0.7  0.64]\n",
      " [0.11 0.   0.46 ... 0.25 0.81 0.75]\n",
      " [0.37 0.46 0.   ... 0.6  0.55 0.51]\n",
      " ...\n",
      " [0.34 0.25 0.6  ... 0.   1.04 0.98]\n",
      " [0.7  0.81 0.55 ... 1.04 0.   0.07]\n",
      " [0.64 0.75 0.51 ... 0.98 0.07 0.  ]]\n"
     ]
    }
   ],
   "source": [
    "rv=np.random.random((100,2))\n",
    "x,y=np.atleast_2d(rv[:,0],rv[:,1])\n",
    "d=np.sqrt((x-x.T)**2 +(y-y.T)**2)\n",
    "print(d)"
   ]
  },
  {
   "cell_type": "markdown",
   "metadata": {},
   "source": [
    "#### 53. How to convert a float (32 bits) array into an integer (32 bits) in place? \n",
    "(**hint**: astype(copy=False))"
   ]
  },
  {
   "cell_type": "code",
   "execution_count": 63,
   "metadata": {},
   "outputs": [
    {
     "name": "stdout",
     "output_type": "stream",
     "text": [
      "[0. 1. 2. 3. 4.]\n",
      "[0 1 2 3 4]\n"
     ]
    }
   ],
   "source": [
    "a=np.arange(5, dtype=np.float32)\n",
    "b=a.astype(np.int32,copy=False)\n",
    "print(a)\n",
    "print(b)"
   ]
  },
  {
   "cell_type": "markdown",
   "metadata": {},
   "source": [
    "#### 54. How to read the following file? (★★☆) \n",
    "(**hint**: np.genfromtxt)"
   ]
  },
  {
   "cell_type": "markdown",
   "metadata": {},
   "source": [
    "```\n",
    "1, 2, 3, 4, 5\n",
    "6,  ,  , 7, 8\n",
    " ,  , 9,10,11\n",
    "```"
   ]
  },
  {
   "cell_type": "code",
   "execution_count": 64,
   "metadata": {},
   "outputs": [
    {
     "name": "stdout",
     "output_type": "stream",
     "text": [
      "[[ 1  2  3  4  5]\n",
      " [ 6 -1 -1  7  8]\n",
      " [-1 -1  9 10 11]]\n"
     ]
    }
   ],
   "source": [
    "from io import StringIO\n",
    "f=StringIO(\"\"\"1, 2, 3, 4, 5\\n\n",
    "                6,  ,  , 7, 8\\n\n",
    "                 ,  , 9,10,11\\n\"\"\")\n",
    "z=np.genfromtxt(f, delimiter=\",\", dtype=int,missing_values=0)\n",
    "print(z)"
   ]
  },
  {
   "cell_type": "markdown",
   "metadata": {},
   "source": [
    "#### 55. What is the equivalent of enumerate for numpy arrays? (★★☆) \n",
    "(**hint**: np.ndenumerate, np.ndindex)"
   ]
  },
  {
   "cell_type": "code",
   "execution_count": 65,
   "metadata": {},
   "outputs": [
    {
     "name": "stdout",
     "output_type": "stream",
     "text": [
      "(0, 0, 0) 0\n",
      "(0, 0, 1) 1\n",
      "(0, 1, 0) 2\n",
      "(0, 1, 1) 3\n",
      "(1, 0, 0) 4\n",
      "(1, 0, 1) 5\n",
      "(1, 1, 0) 6\n",
      "(1, 1, 1) 7\n",
      "(0, 0, 0) 0\n",
      "(0, 0, 1) 1\n",
      "(0, 1, 0) 2\n",
      "(0, 1, 1) 3\n",
      "(1, 0, 0) 4\n",
      "(1, 0, 1) 5\n",
      "(1, 1, 0) 6\n",
      "(1, 1, 1) 7\n"
     ]
    }
   ],
   "source": [
    "e=np.arange(8).reshape(2,2,2)\n",
    "for index,value in np.ndenumerate(e):\n",
    "    print(index, value)\n",
    "for index in np.ndindex(e.shape):\n",
    "    print(index, e[index])"
   ]
  },
  {
   "cell_type": "markdown",
   "metadata": {},
   "source": [
    "#### 56. Generate a generic 2D Gaussian-like array (★★☆) \n",
    "(**hint**: np.meshgrid, np.exp)"
   ]
  },
  {
   "cell_type": "code",
   "execution_count": 66,
   "metadata": {},
   "outputs": [
    {
     "name": "stdout",
     "output_type": "stream",
     "text": [
      "[[0.37 0.45 0.52 0.57 0.6  0.6  0.57 0.52 0.45 0.37]\n",
      " [0.45 0.55 0.63 0.7  0.73 0.73 0.7  0.63 0.55 0.45]\n",
      " [0.52 0.63 0.73 0.81 0.85 0.85 0.81 0.73 0.63 0.52]\n",
      " [0.57 0.7  0.81 0.89 0.94 0.94 0.89 0.81 0.7  0.57]\n",
      " [0.6  0.73 0.85 0.94 0.99 0.99 0.94 0.85 0.73 0.6 ]\n",
      " [0.6  0.73 0.85 0.94 0.99 0.99 0.94 0.85 0.73 0.6 ]\n",
      " [0.57 0.7  0.81 0.89 0.94 0.94 0.89 0.81 0.7  0.57]\n",
      " [0.52 0.63 0.73 0.81 0.85 0.85 0.81 0.73 0.63 0.52]\n",
      " [0.45 0.55 0.63 0.7  0.73 0.73 0.7  0.63 0.55 0.45]\n",
      " [0.37 0.45 0.52 0.57 0.6  0.6  0.57 0.52 0.45 0.37]]\n"
     ]
    }
   ],
   "source": [
    "x,y=np.meshgrid(np.linspace(-1,1,10), np.linspace(-1,1,10))\n",
    "d=np.sqrt(x*x+y*y)\n",
    "sigma,mu=1.0, 0.0\n",
    "g=np.exp(-((d-mu)**2/(2.0*sigma**2)))\n",
    "print(g)"
   ]
  },
  {
   "cell_type": "markdown",
   "metadata": {},
   "source": [
    "#### 57. How to randomly place p elements in a 2D array? (★★☆) \n",
    "(**hint**: np.put, np.random.choice)"
   ]
  },
  {
   "cell_type": "code",
   "execution_count": 67,
   "metadata": {},
   "outputs": [
    {
     "name": "stdout",
     "output_type": "stream",
     "text": [
      "[[0. 0. 0. 1.]\n",
      " [0. 0. 1. 0.]\n",
      " [0. 1. 0. 0.]\n",
      " [0. 0. 0. 0.]]\n"
     ]
    }
   ],
   "source": [
    "n=4\n",
    "p=3\n",
    "z=np.zeros((n,n))\n",
    "np.put(z,np.random.choice(arange(n*n), p, replace=False),1)\n",
    "print(z)"
   ]
  },
  {
   "cell_type": "markdown",
   "metadata": {},
   "source": [
    "#### 58. Subtract the mean of each row of a matrix (★★☆) \n",
    "(**hint**: mean(axis=,keepdims=))"
   ]
  },
  {
   "cell_type": "code",
   "execution_count": 68,
   "metadata": {},
   "outputs": [
    {
     "name": "stdout",
     "output_type": "stream",
     "text": [
      "[[0.79 0.51 0.02 0.26 0.38]\n",
      " [0.68 0.38 0.4  0.66 0.66]\n",
      " [0.15 0.49 0.17 0.86 0.44]\n",
      " [0.48 0.   0.44 0.17 0.54]\n",
      " [0.89 0.32 0.72 0.15 0.95]]\n",
      "[[ 0.39  0.12 -0.37 -0.13 -0.01]\n",
      " [ 0.12 -0.17 -0.16  0.1   0.11]\n",
      " [-0.27  0.07 -0.25  0.44  0.02]\n",
      " [ 0.15 -0.32  0.11 -0.15  0.21]\n",
      " [ 0.28 -0.28  0.12 -0.46  0.34]]\n"
     ]
    }
   ],
   "source": [
    "x=np.random.rand(5,5)\n",
    "print(x)\n",
    "y=x-x.mean(axis=1, keepdims=True)\n",
    "# y=x-x.mean(axis=1).reshape(-1, 1)\n",
    "print(y)"
   ]
  },
  {
   "cell_type": "markdown",
   "metadata": {},
   "source": [
    "#### 59. How to sort an array by the nth column? (★★☆) \n",
    "(**hint**: argsort)"
   ]
  },
  {
   "cell_type": "code",
   "execution_count": 69,
   "metadata": {},
   "outputs": [
    {
     "name": "stdout",
     "output_type": "stream",
     "text": [
      "[[3 3 3]\n",
      " [1 1 0]\n",
      " [2 8 1]]\n",
      "[[1 1 0]\n",
      " [3 3 3]\n",
      " [2 8 1]]\n"
     ]
    }
   ],
   "source": [
    "z=np.random.randint(0,10,(3,3))\n",
    "print(z)\n",
    "print(z[z[:,1].argsort()])"
   ]
  },
  {
   "cell_type": "markdown",
   "metadata": {},
   "source": [
    "#### 60. How to tell if a given 2D array has null columns? (★★☆) \n",
    "(**hint**: any, ~)"
   ]
  },
  {
   "cell_type": "code",
   "execution_count": 70,
   "metadata": {},
   "outputs": [
    {
     "name": "stdout",
     "output_type": "stream",
     "text": [
      "[[1 2 0]\n",
      " [2 1 0]\n",
      " [2 0 1]]\n",
      "False\n"
     ]
    }
   ],
   "source": [
    "Z=np.random.randint(0,3,(3,3))\n",
    "print(Z)\n",
    "print((~Z.any(axis=1)).any())"
   ]
  },
  {
   "cell_type": "markdown",
   "metadata": {},
   "source": [
    "#### 61. Find the nearest value from a given value in an array (★★☆) \n",
    "(**hint**: np.abs, argmin, flat)"
   ]
  },
  {
   "cell_type": "code",
   "execution_count": 71,
   "metadata": {},
   "outputs": [
    {
     "name": "stdout",
     "output_type": "stream",
     "text": [
      "[[13  2 11]\n",
      " [ 6  8 13]\n",
      " [ 7  1  0]]\n",
      "[[11  0  9]\n",
      " [ 4  6 11]\n",
      " [ 5  1  2]]\n",
      "1\n"
     ]
    },
    {
     "data": {
      "text/plain": [
       "2"
      ]
     },
     "execution_count": 71,
     "metadata": {},
     "output_type": "execute_result"
    }
   ],
   "source": [
    "f=np.random.randint(0,15,(3,3))\n",
    "print(f)\n",
    "g=2\n",
    "h=np.abs(g-f)\n",
    "print(h)\n",
    "i=np.argmin(h)\n",
    "print(i)\n",
    "k=f.flat[i]\n",
    "k"
   ]
  },
  {
   "cell_type": "markdown",
   "metadata": {},
   "source": [
    "#### 62. Considering two arrays with shape (1,3) and (3,1), how to compute their sum using an iterator? (★★☆) \n",
    "(**hint**: np.nditer)"
   ]
  },
  {
   "cell_type": "code",
   "execution_count": 72,
   "metadata": {},
   "outputs": [
    {
     "name": "stdout",
     "output_type": "stream",
     "text": [
      "[[0]\n",
      " [1]\n",
      " [2]]\n",
      "[[0 1 2]]\n",
      "<numpy.nditer object at 0x000002136D526350>\n",
      "[[0 1 2]\n",
      " [1 2 3]\n",
      " [2 3 4]]\n"
     ]
    }
   ],
   "source": [
    "A=np.arange(3).reshape(3,1)\n",
    "print(A)\n",
    "B=np.arange(3).reshape(1,3)\n",
    "print(B)\n",
    "it=np.nditer([A,B,None])\n",
    "print(it)\n",
    "for x,y,z in it:\n",
    "  z[...]=x+y\n",
    "print(it.operands[2])"
   ]
  },
  {
   "cell_type": "markdown",
   "metadata": {},
   "source": [
    "#### 63. Create an array class that has a name attribute (★★☆) \n",
    "(**hint**: class method)"
   ]
  },
  {
   "cell_type": "code",
   "execution_count": 73,
   "metadata": {},
   "outputs": [
    {
     "name": "stdout",
     "output_type": "stream",
     "text": [
      "<class '__main__.Array'>\n",
      "range_of_10\n"
     ]
    }
   ],
   "source": [
    "class Array(np.ndarray):\n",
    "    def __new__(cls, array, name=\"no name\"):\n",
    "        obj = np.asarray(array).view(cls)\n",
    "        print(type(obj))\n",
    "        obj.name = name\n",
    "        return obj\n",
    "    def __array_finalize__(self, obj):\n",
    "        if obj is None: return\n",
    "        self.info = getattr(obj, 'name', \"no name\")\n",
    "z= Array(np.arange(10), \"range_of_10\")\n",
    "print(z.name)"
   ]
  },
  {
   "cell_type": "markdown",
   "metadata": {},
   "source": [
    "#### 64. Consider a given vector, how to add 1 to each element indexed by a second vector (be careful with repeated indices)? (★★★) \n",
    "(**hint**: np.bincount | np.add.at)"
   ]
  },
  {
   "cell_type": "code",
   "execution_count": 74,
   "metadata": {},
   "outputs": [
    {
     "name": "stdout",
     "output_type": "stream",
     "text": [
      "[1. 3. 2. 3. 1. 3. 2. 3. 1. 1.]\n",
      "[1. 5. 3. 5. 1. 5. 3. 5. 1. 1.]\n"
     ]
    }
   ],
   "source": [
    "a=np.ones(10)\n",
    "b=np.random.randint(0,len(a),10)\n",
    "a+=np.bincount(b,minlength=len(a))\n",
    "print(a)\n",
    "np.add.at(a,b,1)\n",
    "print(a)"
   ]
  },
  {
   "cell_type": "markdown",
   "metadata": {},
   "source": [
    "#### 65. How to accumulate elements of a vector (X) to an array (F) based on an index list (I)? (★★★) \n",
    "(**hint**: np.bincount)"
   ]
  },
  {
   "cell_type": "code",
   "execution_count": 75,
   "metadata": {},
   "outputs": [
    {
     "data": {
      "text/plain": [
       "array([ 0.,  0.,  1.,  0.,  3.,  0.,  5.,  0.,  7.,  0.,  9.,  0., 11.])"
      ]
     },
     "execution_count": 75,
     "metadata": {},
     "output_type": "execute_result"
    }
   ],
   "source": [
    "a=[2,4,6,8,10,12]\n",
    "b=[1,3,5,7,9,11]\n",
    "np.bincount(a,b)"
   ]
  },
  {
   "cell_type": "markdown",
   "metadata": {},
   "source": [
    "#### 66. Considering a (w,h,3) image of (dtype=ubyte), compute the number of unique colors (★★★) \n",
    "(**hint**: np.unique)"
   ]
  },
  {
   "cell_type": "code",
   "execution_count": 76,
   "metadata": {},
   "outputs": [
    {
     "name": "stdout",
     "output_type": "stream",
     "text": [
      "8\n"
     ]
    }
   ],
   "source": [
    "w,h=16,16\n",
    "i=np.random.randint(0,2,(h,w,3)).astype(np.ubyte)\n",
    "f=i[...,0]*(256*256)+i[...,1]*256+i[...,2]\n",
    "n=len(np.unique(f))\n",
    "print(n)"
   ]
  },
  {
   "cell_type": "markdown",
   "metadata": {},
   "source": [
    "#### 67. Considering a four dimensions array, how to get sum over the last two axis at once? (★★★) \n",
    "(**hint**: sum(axis=(-2,-1)))"
   ]
  },
  {
   "cell_type": "code",
   "execution_count": 77,
   "metadata": {},
   "outputs": [
    {
     "name": "stdout",
     "output_type": "stream",
     "text": [
      "[[31 54 56 51]\n",
      " [61 42 61 66]\n",
      " [67 49 50 66]]\n",
      "[[31 54 56 51]\n",
      " [61 42 61 66]\n",
      " [67 49 50 66]]\n"
     ]
    }
   ],
   "source": [
    "a = np.random.randint(0,10,(3,4,3,4))\n",
    "sum = a.sum(axis=(-2,-1))\n",
    "print(sum)\n",
    "sum = a.reshape(a.shape[:-2] + (-1,)).sum(axis=-1)\n",
    "print(sum)"
   ]
  },
  {
   "cell_type": "markdown",
   "metadata": {},
   "source": [
    "#### 68. Considering a one-dimensional vector D, how to compute means of subsets of D using a vector S of same size describing subset  indices? (★★★) \n",
    "(**hint**: np.bincount)"
   ]
  },
  {
   "cell_type": "code",
   "execution_count": 78,
   "metadata": {},
   "outputs": [
    {
     "name": "stderr",
     "output_type": "stream",
     "text": [
      "D:\\Applications\\Anaconda\\lib\\site-packages\\ipykernel_launcher.py:5: RuntimeWarning: invalid value encountered in true_divide\n",
      "  \"\"\"\n"
     ]
    },
    {
     "name": "stdout",
     "output_type": "stream",
     "text": [
      "[ nan 0.61 0.54 0.58 0.51 0.32 0.31 0.71 0.41 0.58]\n",
      "1    0.613337\n",
      "2    0.541948\n",
      "3    0.575860\n",
      "4    0.506921\n",
      "5    0.319037\n",
      "6    0.314045\n",
      "7    0.706614\n",
      "8    0.409111\n",
      "9    0.577280\n",
      "dtype: float64\n"
     ]
    }
   ],
   "source": [
    "D=np.random.uniform(0,1,100)\n",
    "S=np.random.randint(1,10,100)\n",
    "D_sum=np.bincount(S, weights=D)\n",
    "D_count=np.bincount(S)\n",
    "D_mean=D_sum/D_count\n",
    "print(D_mean)\n",
    "import pandas as pd\n",
    "print(pd.Series(D).groupby(S).mean())"
   ]
  },
  {
   "cell_type": "markdown",
   "metadata": {},
   "source": [
    "#### 69. How to get the diagonal of a dot product? (★★★) \n",
    "(**hint**: np.diag)"
   ]
  },
  {
   "cell_type": "code",
   "execution_count": 79,
   "metadata": {},
   "outputs": [
    {
     "data": {
      "text/plain": [
       "array([25, 42])"
      ]
     },
     "execution_count": 79,
     "metadata": {},
     "output_type": "execute_result"
    }
   ],
   "source": [
    "a=np.random.randint(0,7,(2,2))\n",
    "b=np.random.randint(0,10,(2,2))\n",
    "np.diag(np.dot(a,b))"
   ]
  },
  {
   "cell_type": "markdown",
   "metadata": {},
   "source": [
    "#### 70. Consider the vector \\[1, 2, 3, 4, 5\\], how to build a new vector with 3 consecutive zeros interleaved between each value? (★★★) \n",
    "(**hint**: array\\[::4\\])"
   ]
  },
  {
   "cell_type": "code",
   "execution_count": 80,
   "metadata": {},
   "outputs": [
    {
     "data": {
      "text/plain": [
       "array([1., 0., 0., 0., 2., 0., 0., 0., 3., 0., 0., 0., 4., 0., 0., 0., 5.])"
      ]
     },
     "execution_count": 80,
     "metadata": {},
     "output_type": "execute_result"
    }
   ],
   "source": [
    "v=np.array([1,2,3,4,5])\n",
    "zn=3\n",
    "x=np.zeros(len(v)+(len(v)-1)*zn)\n",
    "x[::zn+1]=v\n",
    "x"
   ]
  },
  {
   "cell_type": "markdown",
   "metadata": {},
   "source": [
    "#### 71. Consider an array of dimension (5,5,3), how to mulitply it by an array with dimensions (5,5)? (★★★) \n",
    "(**hint**: array\\[:, :, None\\])"
   ]
  },
  {
   "cell_type": "code",
   "execution_count": 81,
   "metadata": {},
   "outputs": [
    {
     "name": "stdout",
     "output_type": "stream",
     "text": [
      "[[[24  9 27]\n",
      "  [ 7  4  4]\n",
      "  [12 24 24]\n",
      "  [24 36 12]\n",
      "  [21 21  6]]\n",
      "\n",
      " [[18 21  6]\n",
      "  [ 2  6  4]\n",
      "  [24 16 12]\n",
      "  [45 45 36]\n",
      "  [56 56 56]]\n",
      "\n",
      " [[42 56 49]\n",
      "  [45 35 45]\n",
      "  [30 42 30]\n",
      "  [72 40 48]\n",
      "  [63 36 27]]\n",
      "\n",
      " [[45 63 54]\n",
      "  [45 36 72]\n",
      "  [15 35 45]\n",
      "  [ 2  8  4]\n",
      "  [72  9 27]]\n",
      "\n",
      " [[24 48 42]\n",
      "  [10  2 18]\n",
      "  [16  8 16]\n",
      "  [12 42 54]\n",
      "  [72 32 24]]]\n"
     ]
    }
   ],
   "source": [
    "a=np.random.randint(1,10,(5,5,3))\n",
    "b=np.random.randint(1,10,(5,5))\n",
    "print(a*b[:,:,None])"
   ]
  },
  {
   "cell_type": "markdown",
   "metadata": {},
   "source": [
    "#### 72. How to swap two rows of an array? (★★★) \n",
    "(**hint**: array\\[\\[\\]\\] = array\\[\\[\\]\\])"
   ]
  },
  {
   "cell_type": "code",
   "execution_count": 82,
   "metadata": {},
   "outputs": [
    {
     "name": "stdout",
     "output_type": "stream",
     "text": [
      "[[2 2 2 1]\n",
      " [2 3 2 3]\n",
      " [2 4 2 2]\n",
      " [2 2 2 3]]\n"
     ]
    },
    {
     "data": {
      "text/plain": [
       "array([[2, 3, 2, 3],\n",
       "       [2, 2, 2, 1],\n",
       "       [2, 4, 2, 2],\n",
       "       [2, 2, 2, 3]])"
      ]
     },
     "execution_count": 82,
     "metadata": {},
     "output_type": "execute_result"
    }
   ],
   "source": [
    "a=np.random.randint(1,5,(4,4))\n",
    "print(a)\n",
    "a[[0,1]]=a[[1,0]]\n",
    "a"
   ]
  },
  {
   "cell_type": "markdown",
   "metadata": {},
   "source": [
    "#### 73. Consider a set of 10 triplets describing 10 triangles (with shared vertices), find the set of unique line segments composing all the  triangles (★★★) \n",
    "(**hint**: repeat, np.roll, np.sort, view, np.unique)"
   ]
  },
  {
   "cell_type": "code",
   "execution_count": 83,
   "metadata": {},
   "outputs": [
    {
     "name": "stdout",
     "output_type": "stream",
     "text": [
      "[( 2, 62) ( 5, 99) ( 6, 90) ( 7, 46) (10, 66) (12, 25) (14, 63) (21, 38)\n",
      " (22,  6) (25, 33) (28,  5) (33, 12) (34, 45) (35,  7) (35, 14) (38, 97)\n",
      " (39, 10) (44, 90) (45, 60) (46, 35) (52,  2) (60, 34) (62, 52) (63, 35)\n",
      " (63, 44) (66, 39) (90, 22) (90, 63) (97, 21) (99, 28)]\n"
     ]
    }
   ],
   "source": [
    "faces=np.random.randint(0,100,(10,3))\n",
    "f=np.roll(faces.repeat(2,axis=1),-1,axis=1)\n",
    "f=f.reshape(len(f)*3,2)\n",
    "F=np.sort(f,axis=1)\n",
    "g=f.view(dtype=[('p0',f.dtype),('p1',f.dtype)] )\n",
    "g=np.unique(g)\n",
    "print(g)"
   ]
  },
  {
   "cell_type": "markdown",
   "metadata": {},
   "source": [
    "#### 74. Given an array C that is a bincount, how to produce an array A such that np.bincount(A) == C? (★★★) \n",
    "(**hint**: np.repeat)"
   ]
  },
  {
   "cell_type": "code",
   "execution_count": 84,
   "metadata": {},
   "outputs": [
    {
     "name": "stdout",
     "output_type": "stream",
     "text": [
      "[ 1  2  3  4  5  7 10]\n"
     ]
    }
   ],
   "source": [
    "a=np.bincount([1,3,5,7,10,2,4])\n",
    "b=np.repeat(np.arange(len(a)),a)\n",
    "print(b)"
   ]
  },
  {
   "cell_type": "markdown",
   "metadata": {},
   "source": [
    "#### 75. How to compute averages using a sliding window over an array? (★★★) \n",
    "(**hint**: np.cumsum)"
   ]
  },
  {
   "cell_type": "code",
   "execution_count": 85,
   "metadata": {},
   "outputs": [
    {
     "data": {
      "text/plain": [
       "array([ 1.,  2.,  3.,  4.,  5.,  6.,  7.,  8.,  9., 10., 11., 12., 13.,\n",
       "       14., 15., 16., 17., 18.])"
      ]
     },
     "execution_count": 85,
     "metadata": {},
     "output_type": "execute_result"
    }
   ],
   "source": [
    "def moving_average(a,n=3) :\n",
    "    ret=np.cumsum(a, dtype=float)\n",
    "    ret[n:]=ret[n:] - ret[:-n]\n",
    "    return ret[n - 1:] / n\n",
    "a=np.arange(20)\n",
    "moving_average(a)"
   ]
  },
  {
   "cell_type": "markdown",
   "metadata": {},
   "source": [
    "#### 76. Consider a one-dimensional array Z, build a two-dimensional array whose first row is (Z\\[0\\],Z\\[1\\],Z\\[2\\]) and each subsequent row is  shifted by 1 (last row should be (Z\\[-3\\],Z\\[-2\\],Z\\[-1\\]) (★★★) \n",
    "(**hint**: from numpy.lib import stride_tricks)"
   ]
  },
  {
   "cell_type": "code",
   "execution_count": 86,
   "metadata": {},
   "outputs": [
    {
     "name": "stdout",
     "output_type": "stream",
     "text": [
      "[[0 1 2 3 4]\n",
      " [1 2 3 4 5]\n",
      " [2 3 4 5 6]\n",
      " [3 4 5 6 7]\n",
      " [4 5 6 7 8]]\n"
     ]
    }
   ],
   "source": [
    "from numpy.lib import stride_tricks\n",
    "def rolling(a, window):\n",
    "    shape=(a.size - window + 1, window)\n",
    "    strides=(a.itemsize, a.itemsize)\n",
    "    return stride_tricks.as_strided(a, shape=shape, strides=strides)\n",
    "Z=rolling(np.arange(9), 5)\n",
    "print(Z)"
   ]
  },
  {
   "cell_type": "markdown",
   "metadata": {},
   "source": [
    "#### 77. How to negate a boolean, or to change the sign of a float inplace? (★★★) \n",
    "(**hint**: np.logical_not, np.negative)"
   ]
  },
  {
   "cell_type": "code",
   "execution_count": 87,
   "metadata": {},
   "outputs": [
    {
     "name": "stdout",
     "output_type": "stream",
     "text": [
      "[1 1 1 1 1 1 1 1 1 1 1 1 1 1 1 1 1 1 1 1]\n",
      "[-1 -1 -1 -1 -1 -1 -1 -1 -1 -1 -1 -1 -1 -1 -1 -1 -1 -1 -1 -1]\n"
     ]
    }
   ],
   "source": [
    "a=np.random.randint(0,1,20)\n",
    "print(np.logical_not(a,out=a))\n",
    "print(np.negative(a, out=a))"
   ]
  },
  {
   "cell_type": "markdown",
   "metadata": {},
   "source": [
    "#### 78. Consider 2 sets of points P0,P1 describing lines (2d) and a point p, how to compute distance from p to each line i  (P0\\[i\\],P1\\[i\\])? (★★★)"
   ]
  },
  {
   "cell_type": "code",
   "execution_count": 88,
   "metadata": {},
   "outputs": [
    {
     "data": {
      "text/plain": [
       "array([2.07e+00, 7.05e+00, 1.92e+01, 2.93e+00, 2.78e-03, 6.08e+00,\n",
       "       6.16e+00, 7.37e+00, 6.56e+00, 5.05e+00])"
      ]
     },
     "execution_count": 88,
     "metadata": {},
     "output_type": "execute_result"
    }
   ],
   "source": [
    "def distance(P0,P1,p):\n",
    "    t=P1 - P0\n",
    "    l=(t**2).sum(axis=1)\n",
    "    u=-((P0[:,0]-p[...,0])*t[:,0] + (P0[:,1]-p[...,1])*t[:,1]) / l\n",
    "    u=u.reshape(len(u),1)\n",
    "    d=P0+u*t-p\n",
    "    return np.sqrt((d**2).sum(axis=1))\n",
    "P0=np.random.uniform(-10,10,(10,2))\n",
    "P1=np.random.uniform(-10,10,(10,2))\n",
    "p=np.random.uniform(-10,10,( 1,2))\n",
    "distance(P0, P1, p)"
   ]
  },
  {
   "cell_type": "markdown",
   "metadata": {},
   "source": [
    "#### 79. Consider 2 sets of points P0,P1 describing lines (2d) and a set of points P, how to compute distance from each point j (P\\[j\\]) to each line i (P0\\[i\\],P1\\[i\\])? (★★★)"
   ]
  },
  {
   "cell_type": "code",
   "execution_count": 89,
   "metadata": {},
   "outputs": [
    {
     "data": {
      "text/plain": [
       "array([[2.07e+00, 7.05e+00, 1.92e+01, 2.93e+00, 2.78e-03, 6.08e+00,\n",
       "        6.16e+00, 7.37e+00, 6.56e+00, 5.05e+00]])"
      ]
     },
     "execution_count": 89,
     "metadata": {},
     "output_type": "execute_result"
    }
   ],
   "source": [
    "np.array([distance(P0,P1,p_i) for p_i in p])\n"
   ]
  },
  {
   "cell_type": "markdown",
   "metadata": {},
   "source": [
    "#### 80. Consider an arbitrary array, write a function that extract a subpart with a fixed shape and centered on a given element (pad with a `fill` value when necessary) (★★★) \n",
    "(**hint**: minimum, maximum)"
   ]
  },
  {
   "cell_type": "code",
   "execution_count": 90,
   "metadata": {},
   "outputs": [
    {
     "name": "stdout",
     "output_type": "stream",
     "text": [
      "[[0 7 0 7 5 9 9 1 3 5]\n",
      " [4 2 6 6 7 7 0 9 1 4]\n",
      " [9 2 2 0 2 7 3 2 2 2]\n",
      " [9 9 5 3 8 9 5 1 0 7]\n",
      " [2 7 1 8 9 4 4 4 2 5]\n",
      " [7 9 5 6 3 2 9 0 3 6]\n",
      " [4 8 5 1 2 9 4 8 6 7]\n",
      " [6 9 6 8 0 6 5 5 2 8]\n",
      " [6 2 3 4 4 4 1 9 6 9]\n",
      " [1 0 6 7 4 1 4 7 3 8]]\n",
      "[[0 0 0 0 0]\n",
      " [0 0 7 0 7]\n",
      " [0 4 2 6 6]\n",
      " [0 9 2 2 0]\n",
      " [0 9 9 5 3]]\n"
     ]
    },
    {
     "name": "stderr",
     "output_type": "stream",
     "text": [
      "D:\\Applications\\Anaconda\\lib\\site-packages\\ipykernel_launcher.py:19: FutureWarning: Using a non-tuple sequence for multidimensional indexing is deprecated; use `arr[tuple(seq)]` instead of `arr[seq]`. In the future this will be interpreted as an array index, `arr[np.array(seq)]`, which will result either in an error or a different result.\n"
     ]
    }
   ],
   "source": [
    "Z = np.random.randint(0,10,(10,10))\n",
    "shape = (5,5)\n",
    "fill  = 0\n",
    "position = (1,1)\n",
    "R = np.ones(shape, dtype=Z.dtype)*fill\n",
    "P  = np.array(list(position)).astype(int)\n",
    "Rs = np.array(list(R.shape)).astype(int)\n",
    "Zs = np.array(list(Z.shape)).astype(int)\n",
    "R_start = np.zeros((len(shape),)).astype(int)\n",
    "R_stop  = np.array(list(shape)).astype(int)\n",
    "Z_start = (P-Rs//2)\n",
    "Z_stop  = (P+Rs//2)+Rs%2\n",
    "R_start = (R_start - np.minimum(Z_start,0)).tolist()\n",
    "Z_start = (np.maximum(Z_start,0)).tolist()\n",
    "R_stop = np.maximum(R_start, (R_stop - np.maximum(Z_stop-Zs,0))).tolist()\n",
    "Z_stop = (np.minimum(Z_stop,Zs)).tolist()\n",
    "r = [slice(start,stop) for start,stop in zip(R_start,R_stop)]\n",
    "z = [slice(start,stop) for start,stop in zip(Z_start,Z_stop)]\n",
    "R[r] = Z[z]\n",
    "print(Z)\n",
    "print(R)"
   ]
  },
  {
   "cell_type": "markdown",
   "metadata": {},
   "source": [
    "#### 81. Consider an array Z = \\[1,2,3,4,5,6,7,8,9,10,11,12,13,14\\], how to generate an array R = \\[\\[1,2,3,4\\], \\[2,3,4,5\\], \\[3,4,5,6\\], ..., \\[11,12,13,14\\]\\]? (★★★) \n",
    "(**hint**: stride\\_tricks.as\\_strided)"
   ]
  },
  {
   "cell_type": "code",
   "execution_count": 91,
   "metadata": {},
   "outputs": [
    {
     "data": {
      "text/plain": [
       "array([[ 1,  2,  3,  4],\n",
       "       [ 2,  3,  4,  5],\n",
       "       [ 3,  4,  5,  6],\n",
       "       [ 4,  5,  6,  7],\n",
       "       [ 5,  6,  7,  8],\n",
       "       [ 6,  7,  8,  9],\n",
       "       [ 7,  8,  9, 10],\n",
       "       [ 8,  9, 10, 11],\n",
       "       [ 9, 10, 11, 12],\n",
       "       [10, 11, 12, 13],\n",
       "       [11, 12, 13, 14]], dtype=uint32)"
      ]
     },
     "execution_count": 91,
     "metadata": {},
     "output_type": "execute_result"
    }
   ],
   "source": [
    "Z=np.arange(1,15,dtype=np.uint32)\n",
    "stride_tricks.as_strided(Z,(11,4),(4,4))"
   ]
  },
  {
   "cell_type": "markdown",
   "metadata": {},
   "source": [
    "#### 82. Compute a matrix rank (★★★) \n",
    "(**hint**: np.linalg.svd) (suggestion: np.linalg.svd)"
   ]
  },
  {
   "cell_type": "code",
   "execution_count": 92,
   "metadata": {},
   "outputs": [
    {
     "name": "stdout",
     "output_type": "stream",
     "text": [
      "10\n"
     ]
    }
   ],
   "source": [
    "Z=np.random.uniform(0,1,(10,10))\n",
    "U,S,V=np.linalg.svd(Z)\n",
    "rank=np.sum(S > 1e-10)\n",
    "print(rank)"
   ]
  },
  {
   "cell_type": "markdown",
   "metadata": {},
   "source": [
    "#### 83. How to find the most frequent value in an array? \n",
    "(**hint**: np.bincount, argmax)"
   ]
  },
  {
   "cell_type": "code",
   "execution_count": 93,
   "metadata": {},
   "outputs": [
    {
     "name": "stdout",
     "output_type": "stream",
     "text": [
      "[0 0 2 0 1 1 0 0 1]\n"
     ]
    },
    {
     "data": {
      "text/plain": [
       "2"
      ]
     },
     "execution_count": 93,
     "metadata": {},
     "output_type": "execute_result"
    }
   ],
   "source": [
    "a=np.random.randint(1,10,5)\n",
    "print(np.bincount(a))\n",
    "np.bincount(a).argmax()"
   ]
  },
  {
   "cell_type": "markdown",
   "metadata": {},
   "source": [
    "#### 84. Extract all the contiguous 3x3 blocks from a random 10x10 matrix (★★★) \n",
    "(**hint**: stride\\_tricks.as\\_strided)"
   ]
  },
  {
   "cell_type": "code",
   "execution_count": 94,
   "metadata": {},
   "outputs": [
    {
     "name": "stdout",
     "output_type": "stream",
     "text": [
      "[[[[3 4 4]\n",
      "   [0 4 1]\n",
      "   [4 0 4]]\n",
      "\n",
      "  [[4 4 3]\n",
      "   [4 1 0]\n",
      "   [0 4 4]]\n",
      "\n",
      "  [[4 3 2]\n",
      "   [1 0 1]\n",
      "   [4 4 3]]\n",
      "\n",
      "  [[3 2 1]\n",
      "   [0 1 4]\n",
      "   [4 3 3]]\n",
      "\n",
      "  [[2 1 1]\n",
      "   [1 4 4]\n",
      "   [3 3 4]]\n",
      "\n",
      "  [[1 1 1]\n",
      "   [4 4 4]\n",
      "   [3 4 4]]\n",
      "\n",
      "  [[1 1 3]\n",
      "   [4 4 3]\n",
      "   [4 4 0]]\n",
      "\n",
      "  [[1 3 2]\n",
      "   [4 3 3]\n",
      "   [4 0 1]]]\n",
      "\n",
      "\n",
      " [[[0 4 1]\n",
      "   [4 0 4]\n",
      "   [2 1 1]]\n",
      "\n",
      "  [[4 1 0]\n",
      "   [0 4 4]\n",
      "   [1 1 2]]\n",
      "\n",
      "  [[1 0 1]\n",
      "   [4 4 3]\n",
      "   [1 2 0]]\n",
      "\n",
      "  [[0 1 4]\n",
      "   [4 3 3]\n",
      "   [2 0 4]]\n",
      "\n",
      "  [[1 4 4]\n",
      "   [3 3 4]\n",
      "   [0 4 3]]\n",
      "\n",
      "  [[4 4 4]\n",
      "   [3 4 4]\n",
      "   [4 3 2]]\n",
      "\n",
      "  [[4 4 3]\n",
      "   [4 4 0]\n",
      "   [3 2 1]]\n",
      "\n",
      "  [[4 3 3]\n",
      "   [4 0 1]\n",
      "   [2 1 1]]]\n",
      "\n",
      "\n",
      " [[[4 0 4]\n",
      "   [2 1 1]\n",
      "   [3 2 0]]\n",
      "\n",
      "  [[0 4 4]\n",
      "   [1 1 2]\n",
      "   [2 0 2]]\n",
      "\n",
      "  [[4 4 3]\n",
      "   [1 2 0]\n",
      "   [0 2 4]]\n",
      "\n",
      "  [[4 3 3]\n",
      "   [2 0 4]\n",
      "   [2 4 3]]\n",
      "\n",
      "  [[3 3 4]\n",
      "   [0 4 3]\n",
      "   [4 3 4]]\n",
      "\n",
      "  [[3 4 4]\n",
      "   [4 3 2]\n",
      "   [3 4 2]]\n",
      "\n",
      "  [[4 4 0]\n",
      "   [3 2 1]\n",
      "   [4 2 1]]\n",
      "\n",
      "  [[4 0 1]\n",
      "   [2 1 1]\n",
      "   [2 1 3]]]\n",
      "\n",
      "\n",
      " [[[2 1 1]\n",
      "   [3 2 0]\n",
      "   [0 1 3]]\n",
      "\n",
      "  [[1 1 2]\n",
      "   [2 0 2]\n",
      "   [1 3 0]]\n",
      "\n",
      "  [[1 2 0]\n",
      "   [0 2 4]\n",
      "   [3 0 2]]\n",
      "\n",
      "  [[2 0 4]\n",
      "   [2 4 3]\n",
      "   [0 2 4]]\n",
      "\n",
      "  [[0 4 3]\n",
      "   [4 3 4]\n",
      "   [2 4 3]]\n",
      "\n",
      "  [[4 3 2]\n",
      "   [3 4 2]\n",
      "   [4 3 4]]\n",
      "\n",
      "  [[3 2 1]\n",
      "   [4 2 1]\n",
      "   [3 4 1]]\n",
      "\n",
      "  [[2 1 1]\n",
      "   [2 1 3]\n",
      "   [4 1 4]]]\n",
      "\n",
      "\n",
      " [[[3 2 0]\n",
      "   [0 1 3]\n",
      "   [4 0 0]]\n",
      "\n",
      "  [[2 0 2]\n",
      "   [1 3 0]\n",
      "   [0 0 2]]\n",
      "\n",
      "  [[0 2 4]\n",
      "   [3 0 2]\n",
      "   [0 2 0]]\n",
      "\n",
      "  [[2 4 3]\n",
      "   [0 2 4]\n",
      "   [2 0 0]]\n",
      "\n",
      "  [[4 3 4]\n",
      "   [2 4 3]\n",
      "   [0 0 3]]\n",
      "\n",
      "  [[3 4 2]\n",
      "   [4 3 4]\n",
      "   [0 3 2]]\n",
      "\n",
      "  [[4 2 1]\n",
      "   [3 4 1]\n",
      "   [3 2 1]]\n",
      "\n",
      "  [[2 1 3]\n",
      "   [4 1 4]\n",
      "   [2 1 0]]]\n",
      "\n",
      "\n",
      " [[[0 1 3]\n",
      "   [4 0 0]\n",
      "   [0 2 4]]\n",
      "\n",
      "  [[1 3 0]\n",
      "   [0 0 2]\n",
      "   [2 4 1]]\n",
      "\n",
      "  [[3 0 2]\n",
      "   [0 2 0]\n",
      "   [4 1 4]]\n",
      "\n",
      "  [[0 2 4]\n",
      "   [2 0 0]\n",
      "   [1 4 0]]\n",
      "\n",
      "  [[2 4 3]\n",
      "   [0 0 3]\n",
      "   [4 0 0]]\n",
      "\n",
      "  [[4 3 4]\n",
      "   [0 3 2]\n",
      "   [0 0 0]]\n",
      "\n",
      "  [[3 4 1]\n",
      "   [3 2 1]\n",
      "   [0 0 4]]\n",
      "\n",
      "  [[4 1 4]\n",
      "   [2 1 0]\n",
      "   [0 4 3]]]\n",
      "\n",
      "\n",
      " [[[4 0 0]\n",
      "   [0 2 4]\n",
      "   [0 3 0]]\n",
      "\n",
      "  [[0 0 2]\n",
      "   [2 4 1]\n",
      "   [3 0 2]]\n",
      "\n",
      "  [[0 2 0]\n",
      "   [4 1 4]\n",
      "   [0 2 4]]\n",
      "\n",
      "  [[2 0 0]\n",
      "   [1 4 0]\n",
      "   [2 4 3]]\n",
      "\n",
      "  [[0 0 3]\n",
      "   [4 0 0]\n",
      "   [4 3 0]]\n",
      "\n",
      "  [[0 3 2]\n",
      "   [0 0 0]\n",
      "   [3 0 0]]\n",
      "\n",
      "  [[3 2 1]\n",
      "   [0 0 4]\n",
      "   [0 0 1]]\n",
      "\n",
      "  [[2 1 0]\n",
      "   [0 4 3]\n",
      "   [0 1 3]]]\n",
      "\n",
      "\n",
      " [[[0 2 4]\n",
      "   [0 3 0]\n",
      "   [3 0 3]]\n",
      "\n",
      "  [[2 4 1]\n",
      "   [3 0 2]\n",
      "   [0 3 0]]\n",
      "\n",
      "  [[4 1 4]\n",
      "   [0 2 4]\n",
      "   [3 0 4]]\n",
      "\n",
      "  [[1 4 0]\n",
      "   [2 4 3]\n",
      "   [0 4 2]]\n",
      "\n",
      "  [[4 0 0]\n",
      "   [4 3 0]\n",
      "   [4 2 3]]\n",
      "\n",
      "  [[0 0 0]\n",
      "   [3 0 0]\n",
      "   [2 3 2]]\n",
      "\n",
      "  [[0 0 4]\n",
      "   [0 0 1]\n",
      "   [3 2 3]]\n",
      "\n",
      "  [[0 4 3]\n",
      "   [0 1 3]\n",
      "   [2 3 0]]]]\n"
     ]
    }
   ],
   "source": [
    "X=np.random.randint(0,5,(10,10))\n",
    "n=3\n",
    "i=1+(X.shape[0]-3)\n",
    "j=1+(X.shape[1]-3)\n",
    "C=stride_tricks.as_strided(X, shape=(i, j, n, n), strides=X.strides + X.strides)\n",
    "print(C)"
   ]
  },
  {
   "cell_type": "markdown",
   "metadata": {},
   "source": [
    "#### 85. Create a 2D array subclass such that Z\\[i,j\\] == Z\\[j,i\\] (★★★) \n",
    "(**hint**: class method)"
   ]
  },
  {
   "cell_type": "code",
   "execution_count": 95,
   "metadata": {},
   "outputs": [
    {
     "name": "stdout",
     "output_type": "stream",
     "text": [
      "[[ 1 15  5  6  6]\n",
      " [15  9  9  6  7]\n",
      " [ 5  9  7 42  4]\n",
      " [ 6  6 42  1  4]\n",
      " [ 6  7  4  4  5]]\n"
     ]
    }
   ],
   "source": [
    "class Symetric(np.ndarray):\n",
    "    def __setitem__(self, index, value):\n",
    "        i,j = index\n",
    "        super(Symetric, self).__setitem__((i,j), value)\n",
    "        super(Symetric, self).__setitem__((j,i), value)\n",
    "def symetric(Z):\n",
    "    return np.asarray(Z + Z.T - np.diag(Z.diagonal())).view(Symetric)\n",
    "X = symetric(np.random.randint(0,10,(5,5)))\n",
    "X[2,3] = 42\n",
    "print(X)"
   ]
  },
  {
   "cell_type": "markdown",
   "metadata": {},
   "source": [
    "#### 86. Consider a set of p matrices wich shape (n,n) and a set of p vectors with shape (n,1). How to compute the sum of of the p matrix products at once? (result has shape (n,1)) (★★★) \n",
    "(**hint**: np.tensordot)"
   ]
  },
  {
   "cell_type": "code",
   "execution_count": 96,
   "metadata": {},
   "outputs": [
    {
     "name": "stdout",
     "output_type": "stream",
     "text": [
      "[[200.]\n",
      " [200.]\n",
      " [200.]\n",
      " [200.]\n",
      " [200.]\n",
      " [200.]\n",
      " [200.]\n",
      " [200.]\n",
      " [200.]\n",
      " [200.]\n",
      " [200.]\n",
      " [200.]\n",
      " [200.]\n",
      " [200.]\n",
      " [200.]\n",
      " [200.]\n",
      " [200.]\n",
      " [200.]\n",
      " [200.]\n",
      " [200.]]\n"
     ]
    }
   ],
   "source": [
    "p,n= 10, 20\n",
    "M=np.ones((p,n,n))\n",
    "V=np.ones((p,n,1))\n",
    "X=np.tensordot(M, V, axes=[[0, 2], [0, 1]])\n",
    "print(X)"
   ]
  },
  {
   "cell_type": "markdown",
   "metadata": {},
   "source": [
    "#### 87. Consider a 16x16 array, how to get the block-sum (block size is 4x4)? (★★★) \n",
    "(**hint**: np.add.reduceat)"
   ]
  },
  {
   "cell_type": "code",
   "execution_count": 97,
   "metadata": {},
   "outputs": [
    {
     "name": "stdout",
     "output_type": "stream",
     "text": [
      "[[16. 16. 16. 16.]\n",
      " [16. 16. 16. 16.]\n",
      " [16. 16. 16. 16.]\n",
      " [16. 16. 16. 16.]]\n"
     ]
    }
   ],
   "source": [
    "Z=np.ones((16,16))\n",
    "k=4\n",
    "S=np.add.reduceat(np.add.reduceat(Z, np.arange(0, Z.shape[0], k), axis=0),\n",
    "                                       np.arange(0, Z.shape[1], k), axis=1)\n",
    "print(S)"
   ]
  },
  {
   "cell_type": "markdown",
   "metadata": {},
   "source": [
    "#### 88. How to implement the Game of Life using numpy arrays? (★★★)"
   ]
  },
  {
   "cell_type": "code",
   "execution_count": 98,
   "metadata": {},
   "outputs": [
    {
     "name": "stdout",
     "output_type": "stream",
     "text": [
      "[[0 0 0 ... 0 0 0]\n",
      " [0 0 0 ... 0 0 0]\n",
      " [0 0 0 ... 0 0 0]\n",
      " ...\n",
      " [0 0 1 ... 0 0 0]\n",
      " [0 0 0 ... 0 0 0]\n",
      " [0 0 0 ... 0 0 0]]\n"
     ]
    }
   ],
   "source": [
    "def iterate(Z):\n",
    "    N = (Z[0:-2,0:-2] + Z[0:-2,1:-1] + Z[0:-2,2:] +\n",
    "         Z[1:-1,0:-2]                + Z[1:-1,2:] +\n",
    "         Z[2:  ,0:-2] + Z[2:  ,1:-1] + Z[2:  ,2:])\n",
    "    birth = (N==3) & (Z[1:-1,1:-1]==0)\n",
    "    survive = ((N==2) | (N==3)) & (Z[1:-1,1:-1]==1)\n",
    "    Z[...] = 0\n",
    "    Z[1:-1,1:-1][birth | survive] = 1\n",
    "    return Z\n",
    "Z = np.random.randint(0,2,(50,50))\n",
    "for i in range(10): Z = iterate(Z)\n",
    "print(Z)"
   ]
  },
  {
   "cell_type": "markdown",
   "metadata": {},
   "source": [
    "#### 89. How to get the n largest values of an array (★★★) \n",
    "(**hint**: np.argsort | np.argpartition)"
   ]
  },
  {
   "cell_type": "code",
   "execution_count": 99,
   "metadata": {},
   "outputs": [
    {
     "name": "stdout",
     "output_type": "stream",
     "text": [
      "[145 146 147 148 149]\n",
      "[148 149 147 146 145]\n"
     ]
    }
   ],
   "source": [
    "Z = np.arange(150)\n",
    "np.random.shuffle(Z)\n",
    "n = 5\n",
    "print (Z[np.argsort(Z)[-n:]])\n",
    "print (Z[np.argpartition(-Z,n)[:n]])"
   ]
  },
  {
   "cell_type": "markdown",
   "metadata": {},
   "source": [
    "#### 90. Given an arbitrary number of vectors, build the cartesian product (every combinations of every item) (★★★) \n",
    "(**hint**: np.indices)"
   ]
  },
  {
   "cell_type": "code",
   "execution_count": 100,
   "metadata": {
    "scrolled": true
   },
   "outputs": [
    {
     "name": "stdout",
     "output_type": "stream",
     "text": [
      "[[1 4 6]\n",
      " [1 4 7]\n",
      " [1 5 6]\n",
      " [1 5 7]\n",
      " [2 4 6]\n",
      " [2 4 7]\n",
      " [2 5 6]\n",
      " [2 5 7]\n",
      " [3 4 6]\n",
      " [3 4 7]\n",
      " [3 5 6]\n",
      " [3 5 7]]\n"
     ]
    }
   ],
   "source": [
    "def cartesian(arrays):\n",
    "    arrays = [np.asarray(a) for a in arrays]\n",
    "    shape = (len(x) for x in arrays)\n",
    "    ix = np.indices(shape, dtype=int)\n",
    "    ix = ix.reshape(len(arrays), -1).T\n",
    "    for n, arr in enumerate(arrays):\n",
    "        ix[:, n] = arrays[n][ix[:, n]]\n",
    "    return ix\n",
    "print (cartesian(([1, 2, 3], [4, 5], [6, 7])))"
   ]
  },
  {
   "cell_type": "markdown",
   "metadata": {},
   "source": [
    "#### 91. How to create a record array from a regular array? (★★★) \n",
    "(**hint**: np.core.records.fromarrays)"
   ]
  },
  {
   "cell_type": "code",
   "execution_count": 101,
   "metadata": {},
   "outputs": [
    {
     "name": "stdout",
     "output_type": "stream",
     "text": [
      "[(b'hello', 2.5, 3) (b'karthick', 3.6, 2)]\n"
     ]
    }
   ],
   "source": [
    "x=np.array([(\"hello\",2.5,3),\n",
    "            (\"karthick\",3.6,2)])\n",
    "r=np.core.records.fromarrays(x.T,names='col1,col2,col3',formats='S8,f8,i8')\n",
    "print(r)"
   ]
  },
  {
   "cell_type": "markdown",
   "metadata": {},
   "source": [
    "#### 92. Consider a large vector Z, compute Z to the power of 3 using 3 different methods (★★★) \n",
    "(**hint**: np.power, \\*, np.einsum)"
   ]
  },
  {
   "cell_type": "code",
   "execution_count": 102,
   "metadata": {},
   "outputs": [
    {
     "name": "stdout",
     "output_type": "stream",
     "text": [
      "1.63 s ± 73.4 ms per loop (mean ± std. dev. of 7 runs, 1 loop each)\n",
      "378 ms ± 50.1 ms per loop (mean ± std. dev. of 7 runs, 1 loop each)\n",
      "178 ms ± 13.6 ms per loop (mean ± std. dev. of 7 runs, 1 loop each)\n"
     ]
    }
   ],
   "source": [
    "x=np.random.random(int(5e7))\n",
    "%timeit np.power(x,3)\n",
    "%timeit x*x*x\n",
    "%timeit np.einsum('i,i,i->i',x,x,x)"
   ]
  },
  {
   "cell_type": "markdown",
   "metadata": {},
   "source": [
    "#### 93. Consider two arrays A and B of shape (8,3) and (2,2). How to find rows of A that contain elements of each row of B regardless of the order of the elements in B? (★★★) \n",
    "(**hint**: np.where)"
   ]
  },
  {
   "cell_type": "code",
   "execution_count": 103,
   "metadata": {},
   "outputs": [
    {
     "name": "stdout",
     "output_type": "stream",
     "text": [
      "[1 2 3 4 5 6 7]\n"
     ]
    }
   ],
   "source": [
    "A=np.random.randint(0,5,(8,3))\n",
    "B=np.random.randint(0,5,(2,2))\n",
    "C=(A[..., np.newaxis, np.newaxis] == B)\n",
    "rows=np.where(C.any((3,1)).all(1))[0]\n",
    "print(rows)"
   ]
  },
  {
   "cell_type": "markdown",
   "metadata": {},
   "source": [
    "#### 94. Considering a 10x3 matrix, extract rows with unequal values (e.g. \\[2,2,3\\]) (★★★)"
   ]
  },
  {
   "cell_type": "code",
   "execution_count": 104,
   "metadata": {},
   "outputs": [
    {
     "name": "stdout",
     "output_type": "stream",
     "text": [
      "[[0 4 0]\n",
      " [4 1 0]\n",
      " [1 1 4]\n",
      " [0 3 1]\n",
      " [1 4 1]\n",
      " [0 4 0]\n",
      " [4 0 1]\n",
      " [2 1 3]\n",
      " [4 2 4]\n",
      " [1 0 1]]\n",
      "[[0 4 0]\n",
      " [4 1 0]\n",
      " [1 1 4]\n",
      " [0 3 1]\n",
      " [1 4 1]\n",
      " [0 4 0]\n",
      " [4 0 1]\n",
      " [2 1 3]\n",
      " [4 2 4]\n",
      " [1 0 1]]\n",
      "[[0 4 0]\n",
      " [4 1 0]\n",
      " [1 1 4]\n",
      " [0 3 1]\n",
      " [1 4 1]\n",
      " [0 4 0]\n",
      " [4 0 1]\n",
      " [2 1 3]\n",
      " [4 2 4]\n",
      " [1 0 1]]\n"
     ]
    }
   ],
   "source": [
    "M=np.random.randint(0,5,(10,3))\n",
    "print(M)\n",
    "E=np.all(M[:,1:] == M[:,:-1], axis=1)\n",
    "U=M[~E]\n",
    "print(U)\n",
    "U=M[M.max(axis=1) != M.min(axis=1),:]\n",
    "print(U)"
   ]
  },
  {
   "cell_type": "markdown",
   "metadata": {},
   "source": [
    "#### 95. Convert a vector of ints into a matrix binary representation (★★★) \n",
    "(**hint**: np.unpackbits)"
   ]
  },
  {
   "cell_type": "code",
   "execution_count": 105,
   "metadata": {},
   "outputs": [
    {
     "name": "stdout",
     "output_type": "stream",
     "text": [
      "[[0 0 0 0 0 0 0 0]\n",
      " [0 0 0 0 0 0 0 1]\n",
      " [0 0 0 0 0 0 1 0]\n",
      " [0 0 0 0 0 0 1 1]\n",
      " [0 0 0 0 1 1 1 1]\n",
      " [0 0 0 1 0 0 0 0]\n",
      " [0 0 1 0 0 0 0 0]\n",
      " [0 1 0 0 0 0 0 0]\n",
      " [1 0 0 0 0 0 0 0]]\n",
      "[[0 0 0 0 0 0 0 0]\n",
      " [0 0 0 0 0 0 0 1]\n",
      " [0 0 0 0 0 0 1 0]\n",
      " [0 0 0 0 0 0 1 1]\n",
      " [0 0 0 0 1 1 1 1]\n",
      " [0 0 0 1 0 0 0 0]\n",
      " [0 0 1 0 0 0 0 0]\n",
      " [0 1 0 0 0 0 0 0]\n",
      " [1 0 0 0 0 0 0 0]]\n"
     ]
    }
   ],
   "source": [
    "I = np.array([0, 1, 2, 3, 15, 16, 32, 64, 128])\n",
    "B = ((I.reshape(-1,1) & (2**np.arange(8))) != 0).astype(int)\n",
    "print(B[:,::-1])\n",
    "I = np.array([0, 1, 2, 3, 15, 16, 32, 64, 128], dtype=np.uint8)\n",
    "print(np.unpackbits(I[:, np.newaxis], axis=1))"
   ]
  },
  {
   "cell_type": "markdown",
   "metadata": {},
   "source": [
    "#### 96. Given a two dimensional array, how to extract unique rows? (★★★) \n",
    "(**hint**: np.ascontiguousarray)"
   ]
  },
  {
   "cell_type": "code",
   "execution_count": 107,
   "metadata": {},
   "outputs": [
    {
     "ename": "TypeError",
     "evalue": "'int' object is not callable",
     "output_type": "error",
     "traceback": [
      "\u001b[1;31m---------------------------------------------------------------------------\u001b[0m",
      "\u001b[1;31mTypeError\u001b[0m                                 Traceback (most recent call last)",
      "\u001b[1;32m<ipython-input-107-519480bc743d>\u001b[0m in \u001b[0;36m<module>\u001b[1;34m\u001b[0m\n\u001b[1;32m----> 1\u001b[1;33m \u001b[0mZ\u001b[0m \u001b[1;33m=\u001b[0m \u001b[0mnp\u001b[0m\u001b[1;33m.\u001b[0m\u001b[0mrandom\u001b[0m\u001b[1;33m.\u001b[0m\u001b[0mrandint\u001b[0m\u001b[1;33m(\u001b[0m\u001b[1;36m0\u001b[0m\u001b[1;33m,\u001b[0m\u001b[1;36m21\u001b[0m\u001b[1;33m(\u001b[0m\u001b[1;36m5\u001b[0m\u001b[1;33m,\u001b[0m\u001b[1;36m5\u001b[0m\u001b[1;33m)\u001b[0m\u001b[1;33m)\u001b[0m\u001b[1;33m\u001b[0m\u001b[1;33m\u001b[0m\u001b[0m\n\u001b[0m\u001b[0;32m      2\u001b[0m \u001b[0mT\u001b[0m \u001b[1;33m=\u001b[0m \u001b[0mnp\u001b[0m\u001b[1;33m.\u001b[0m\u001b[0mascontiguousarray\u001b[0m\u001b[1;33m(\u001b[0m\u001b[0mZ\u001b[0m\u001b[1;33m)\u001b[0m\u001b[1;33m.\u001b[0m\u001b[0mview\u001b[0m\u001b[1;33m(\u001b[0m\u001b[0mnp\u001b[0m\u001b[1;33m.\u001b[0m\u001b[0mdtype\u001b[0m\u001b[1;33m(\u001b[0m\u001b[1;33m(\u001b[0m\u001b[0mnp\u001b[0m\u001b[1;33m.\u001b[0m\u001b[0mvoid\u001b[0m\u001b[1;33m,\u001b[0m \u001b[0mZ\u001b[0m\u001b[1;33m.\u001b[0m\u001b[0mdtype\u001b[0m\u001b[1;33m.\u001b[0m\u001b[0mitemsize\u001b[0m \u001b[1;33m*\u001b[0m \u001b[0mZ\u001b[0m\u001b[1;33m.\u001b[0m\u001b[0mshape\u001b[0m\u001b[1;33m[\u001b[0m\u001b[1;36m1\u001b[0m\u001b[1;33m]\u001b[0m\u001b[1;33m)\u001b[0m\u001b[1;33m)\u001b[0m\u001b[1;33m)\u001b[0m\u001b[1;33m\u001b[0m\u001b[1;33m\u001b[0m\u001b[0m\n\u001b[0;32m      3\u001b[0m \u001b[0m_\u001b[0m\u001b[1;33m,\u001b[0m \u001b[0midx\u001b[0m \u001b[1;33m=\u001b[0m \u001b[0mnp\u001b[0m\u001b[1;33m.\u001b[0m\u001b[0munique\u001b[0m\u001b[1;33m(\u001b[0m\u001b[0mT\u001b[0m\u001b[1;33m,\u001b[0m \u001b[0mreturn_index\u001b[0m\u001b[1;33m=\u001b[0m\u001b[1;32mTrue\u001b[0m\u001b[1;33m)\u001b[0m\u001b[1;33m\u001b[0m\u001b[1;33m\u001b[0m\u001b[0m\n\u001b[0;32m      4\u001b[0m \u001b[0muZ\u001b[0m \u001b[1;33m=\u001b[0m \u001b[0mZ\u001b[0m\u001b[1;33m[\u001b[0m\u001b[0midx\u001b[0m\u001b[1;33m]\u001b[0m\u001b[1;33m\u001b[0m\u001b[1;33m\u001b[0m\u001b[0m\n\u001b[0;32m      5\u001b[0m \u001b[0mprint\u001b[0m\u001b[1;33m(\u001b[0m\u001b[0muZ\u001b[0m\u001b[1;33m)\u001b[0m\u001b[1;33m\u001b[0m\u001b[1;33m\u001b[0m\u001b[0m\n",
      "\u001b[1;31mTypeError\u001b[0m: 'int' object is not callable"
     ]
    }
   ],
   "source": [
    "Z = np.random.randint(0,21(5,5))\n",
    "T = np.ascontiguousarray(Z).view(np.dtype((np.void, Z.dtype.itemsize * Z.shape[1])))\n",
    "_, idx = np.unique(T, return_index=True)\n",
    "uZ = Z[idx]\n",
    "print(uZ)\n",
    "uZ = np.unique(Z, axis=0)\n",
    "round(print(uZ))"
   ]
  },
  {
   "cell_type": "markdown",
   "metadata": {},
   "source": [
    "#### 97. Considering 2 vectors A & B, write the einsum equivalent of inner, outer, sum, and mul function (★★★) \n",
    "(**hint**: np.einsum)"
   ]
  },
  {
   "cell_type": "code",
   "execution_count": 108,
   "metadata": {},
   "outputs": [
    {
     "data": {
      "text/plain": [
       "array([[0.35, 0.31, 0.47, 0.26, 0.39, 0.58, 0.21, 0.74, 0.49, 0.11],\n",
       "       [0.29, 0.26, 0.39, 0.22, 0.33, 0.48, 0.17, 0.62, 0.41, 0.09],\n",
       "       [0.3 , 0.27, 0.4 , 0.22, 0.33, 0.49, 0.18, 0.63, 0.42, 0.1 ],\n",
       "       [0.03, 0.03, 0.05, 0.03, 0.04, 0.06, 0.02, 0.07, 0.05, 0.01],\n",
       "       [0.14, 0.13, 0.19, 0.11, 0.16, 0.24, 0.08, 0.3 , 0.2 , 0.05],\n",
       "       [0.11, 0.1 , 0.15, 0.08, 0.13, 0.19, 0.07, 0.24, 0.16, 0.04],\n",
       "       [0.18, 0.16, 0.24, 0.13, 0.2 , 0.3 , 0.11, 0.38, 0.25, 0.06],\n",
       "       [0.19, 0.17, 0.26, 0.14, 0.22, 0.32, 0.11, 0.41, 0.27, 0.06],\n",
       "       [0.23, 0.2 , 0.31, 0.17, 0.25, 0.38, 0.13, 0.48, 0.32, 0.07],\n",
       "       [0.16, 0.15, 0.22, 0.12, 0.18, 0.27, 0.1 , 0.35, 0.23, 0.05]])"
      ]
     },
     "execution_count": 108,
     "metadata": {},
     "output_type": "execute_result"
    }
   ],
   "source": [
    "A = np.random.uniform(0,1,10)\n",
    "B = np.random.uniform(0,1,10)\n",
    "np.einsum('i->', A)       \n",
    "np.einsum('i,i->i', A, B) \n",
    "np.einsum('i,i', A, B)    \n",
    "np.einsum('i,j->ij', A, B)"
   ]
  },
  {
   "cell_type": "markdown",
   "metadata": {},
   "source": [
    "#### 98. Considering a path described by two vectors (X,Y), how to sample it using equidistant samples (★★★)? \n",
    "(**hint**: np.cumsum, np.interp)"
   ]
  },
  {
   "cell_type": "code",
   "execution_count": 109,
   "metadata": {},
   "outputs": [],
   "source": [
    "phi = np.arange(0, 10*np.pi, 0.1)\n",
    "a = 1\n",
    "x = a*phi*np.cos(phi)\n",
    "y = a*phi*np.sin(phi)\n",
    "dr = (np.diff(x)**2 + np.diff(y)**2)**.5\n",
    "r = np.zeros_like(x)\n",
    "r[1:] = np.cumsum(dr)                \n",
    "r_int = np.linspace(0, r.max(), 200) \n",
    "x_int = np.interp(r_int, r, x)       \n",
    "y_int = np.interp(r_int, r, y)"
   ]
  },
  {
   "cell_type": "markdown",
   "metadata": {},
   "source": [
    "#### 99. Given an integer n and a 2D array X, select from X the rows which can be interpreted as draws from a multinomial distribution with n degrees, i.e., the rows which only contain integers and which sum to n. (★★★) \n",
    "(**hint**: np.logical\\_and.reduce, np.mod)"
   ]
  },
  {
   "cell_type": "code",
   "execution_count": 110,
   "metadata": {},
   "outputs": [
    {
     "name": "stdout",
     "output_type": "stream",
     "text": [
      "[[2. 0. 1. 1.]]\n"
     ]
    }
   ],
   "source": [
    "X=np.asarray([[1.0, 0.0, 3.0, 8.0],\n",
    "                [2.0, 0.0, 1.0, 1.0],\n",
    "                [1.5, 2.5, 1.0, 0.0]])\n",
    "n=4\n",
    "M=np.logical_and.reduce(np.mod(X, 1) == 0, axis=-1)\n",
    "M&=(X.sum(axis=-1) == n)\n",
    "print(X[M])"
   ]
  },
  {
   "cell_type": "markdown",
   "metadata": {},
   "source": [
    "#### 100. Compute bootstrapped 95% confidence intervals for the mean of a 1D array X (i.e., resample the elements of an array with replacement N times, compute the mean of each sample, and then compute percentiles over the means). (★★★) \n",
    "(**hint**: np.percentile)"
   ]
  },
  {
   "cell_type": "code",
   "execution_count": 111,
   "metadata": {},
   "outputs": [
    {
     "name": "stdout",
     "output_type": "stream",
     "text": [
      "[-0.34  0.08]\n"
     ]
    }
   ],
   "source": [
    "X=np.random.randn(100) \n",
    "N=1000 \n",
    "idx=np.random.randint(0, X.size, (N, X.size))\n",
    "means=X[idx].mean(axis=1)\n",
    "confint=np.percentile(means, [2.5, 97.5])\n",
    "print(confint)"
   ]
  },
  {
   "cell_type": "code",
   "execution_count": null,
   "metadata": {},
   "outputs": [],
   "source": []
  }
 ],
 "metadata": {
  "kernelspec": {
   "display_name": "Python 3",
   "language": "python",
   "name": "python3"
  },
  "language_info": {
   "codemirror_mode": {
    "name": "ipython",
    "version": 3
   },
   "file_extension": ".py",
   "mimetype": "text/x-python",
   "name": "python",
   "nbconvert_exporter": "python",
   "pygments_lexer": "ipython3",
   "version": "3.7.3"
  }
 },
 "nbformat": 4,
 "nbformat_minor": 1
}
